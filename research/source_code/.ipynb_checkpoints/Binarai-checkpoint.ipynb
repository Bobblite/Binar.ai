{
 "cells": [
  {
   "cell_type": "markdown",
   "id": "7f5a7a2e-f644-4356-a080-2a1ad50f84aa",
   "metadata": {},
   "source": [
    "# Binar.ai\n",
    "Binar.ai is an image recognition algorithm that can detect fixed-length handwritten binary numbers and convert them to decimals.\n",
    "\n",
    "## Abstract\n",
    "In this notebook, we will be implementing **Binar.ai**, with detailed explaination at each step. We will be curating our own training and testing datasets by concatenating data points found in the _MNIST_ database. The model will be built around a Convoluted Neural Network(CNN) and modified if need be."
   ]
  },
  {
   "cell_type": "markdown",
   "id": "36ac49e1-189c-48db-abb0-e6eaabc19716",
   "metadata": {
    "tags": []
   },
   "source": [
    "## Curating Training and Testing Datasets\n",
    "The scope of **Binar.ai** is limited to that of 4-digit binary numbers and, with a limited scope such as this, an off-the-shelves database that fits our scope is nearly impossible to find. Thus we will be curating our own datasets by concatenating data points in the _MNIST_ database of handwritten digits.<br><br>\n",
    "\n",
    "In the [MNIST Database Exploration notebook](MNIST_Database_Explorartion.ipynb), we were successful in the concatenation mentioned before. In the code snippets below, we will replicate what was done in the [MNIST Database Exploration notebook](MNIST_Database_Explorartion.ipynb) and modify it to fit our requirements."
   ]
  },
  {
   "cell_type": "markdown",
   "id": "3b55db8a-5087-42be-8a3e-e47e9252faaf",
   "metadata": {},
   "source": [
    "### Loading the MNIST Database\n",
    "Let's first load the _MNIST_ Database and show some of these handwritten digits."
   ]
  },
  {
   "cell_type": "code",
   "execution_count": 1,
   "id": "e6e326b6-c33b-4986-a7ef-b14c75c54c0b",
   "metadata": {
    "collapsed": true,
    "jupyter": {
     "outputs_hidden": true
    },
    "tags": []
   },
   "outputs": [
    {
     "name": "stdout",
     "output_type": "stream",
     "text": [
      "Requirement already satisfied: matplotlib in c:\\users\\shawn\\appdata\\local\\programs\\python\\python310\\lib\\site-packages (3.6.2)\n",
      "Requirement already satisfied: python-dateutil>=2.7 in c:\\users\\shawn\\appdata\\local\\programs\\python\\python310\\lib\\site-packages (from matplotlib) (2.8.2)\n",
      "Requirement already satisfied: numpy>=1.19 in c:\\users\\shawn\\appdata\\local\\programs\\python\\python310\\lib\\site-packages (from matplotlib) (1.23.5)\n",
      "Requirement already satisfied: contourpy>=1.0.1 in c:\\users\\shawn\\appdata\\local\\programs\\python\\python310\\lib\\site-packages (from matplotlib) (1.0.6)\n",
      "Requirement already satisfied: kiwisolver>=1.0.1 in c:\\users\\shawn\\appdata\\local\\programs\\python\\python310\\lib\\site-packages (from matplotlib) (1.4.4)\n",
      "Requirement already satisfied: pillow>=6.2.0 in c:\\users\\shawn\\appdata\\local\\programs\\python\\python310\\lib\\site-packages (from matplotlib) (9.3.0)\n",
      "Requirement already satisfied: cycler>=0.10 in c:\\users\\shawn\\appdata\\local\\programs\\python\\python310\\lib\\site-packages (from matplotlib) (0.11.0)\n",
      "Requirement already satisfied: fonttools>=4.22.0 in c:\\users\\shawn\\appdata\\local\\programs\\python\\python310\\lib\\site-packages (from matplotlib) (4.38.0)\n",
      "Requirement already satisfied: pyparsing>=2.2.1 in c:\\users\\shawn\\appdata\\local\\programs\\python\\python310\\lib\\site-packages (from matplotlib) (3.0.9)\n",
      "Requirement already satisfied: packaging>=20.0 in c:\\users\\shawn\\appdata\\local\\programs\\python\\python310\\lib\\site-packages (from matplotlib) (22.0)\n",
      "Requirement already satisfied: six>=1.5 in c:\\users\\shawn\\appdata\\local\\programs\\python\\python310\\lib\\site-packages (from python-dateutil>=2.7->matplotlib) (1.16.0)\n"
     ]
    },
    {
     "name": "stderr",
     "output_type": "stream",
     "text": [
      "\n",
      "[notice] A new release of pip is available: 23.0 -> 23.0.1\n",
      "[notice] To update, run: C:\\Users\\shawn\\AppData\\Local\\Programs\\Python\\Python310\\python.exe -m pip install --upgrade pip\n"
     ]
    },
    {
     "name": "stdout",
     "output_type": "stream",
     "text": [
      "Requirement already satisfied: tensorflow in c:\\users\\shawn\\appdata\\roaming\\python\\python310\\site-packages (2.12.0)\n",
      "Requirement already satisfied: tensorflow-intel==2.12.0 in c:\\users\\shawn\\appdata\\roaming\\python\\python310\\site-packages (from tensorflow) (2.12.0)\n",
      "Requirement already satisfied: jax>=0.3.15 in c:\\users\\shawn\\appdata\\roaming\\python\\python310\\site-packages (from tensorflow-intel==2.12.0->tensorflow) (0.4.8)\n",
      "Requirement already satisfied: libclang>=13.0.0 in c:\\users\\shawn\\appdata\\local\\programs\\python\\python310\\lib\\site-packages (from tensorflow-intel==2.12.0->tensorflow) (16.0.0)\n",
      "Requirement already satisfied: opt-einsum>=2.3.2 in c:\\users\\shawn\\appdata\\roaming\\python\\python310\\site-packages (from tensorflow-intel==2.12.0->tensorflow) (3.3.0)\n",
      "Requirement already satisfied: grpcio<2.0,>=1.24.3 in c:\\users\\shawn\\appdata\\roaming\\python\\python310\\site-packages (from tensorflow-intel==2.12.0->tensorflow) (1.53.0)\n",
      "Requirement already satisfied: six>=1.12.0 in c:\\users\\shawn\\appdata\\local\\programs\\python\\python310\\lib\\site-packages (from tensorflow-intel==2.12.0->tensorflow) (1.16.0)\n",
      "Requirement already satisfied: google-pasta>=0.1.1 in c:\\users\\shawn\\appdata\\roaming\\python\\python310\\site-packages (from tensorflow-intel==2.12.0->tensorflow) (0.2.0)\n",
      "Requirement already satisfied: termcolor>=1.1.0 in c:\\users\\shawn\\appdata\\local\\programs\\python\\python310\\lib\\site-packages (from tensorflow-intel==2.12.0->tensorflow) (2.2.0)\n",
      "Requirement already satisfied: flatbuffers>=2.0 in c:\\users\\shawn\\appdata\\local\\programs\\python\\python310\\lib\\site-packages (from tensorflow-intel==2.12.0->tensorflow) (23.3.3)\n",
      "Requirement already satisfied: keras<2.13,>=2.12.0 in c:\\users\\shawn\\appdata\\roaming\\python\\python310\\site-packages (from tensorflow-intel==2.12.0->tensorflow) (2.12.0)\n",
      "Requirement already satisfied: numpy<1.24,>=1.22 in c:\\users\\shawn\\appdata\\local\\programs\\python\\python310\\lib\\site-packages (from tensorflow-intel==2.12.0->tensorflow) (1.23.5)\n",
      "Requirement already satisfied: packaging in c:\\users\\shawn\\appdata\\local\\programs\\python\\python310\\lib\\site-packages (from tensorflow-intel==2.12.0->tensorflow) (22.0)\n",
      "Requirement already satisfied: wrapt<1.15,>=1.11.0 in c:\\users\\shawn\\appdata\\local\\programs\\python\\python310\\lib\\site-packages (from tensorflow-intel==2.12.0->tensorflow) (1.14.1)\n",
      "Requirement already satisfied: setuptools in c:\\users\\shawn\\appdata\\local\\programs\\python\\python310\\lib\\site-packages (from tensorflow-intel==2.12.0->tensorflow) (58.1.0)\n",
      "Requirement already satisfied: tensorflow-io-gcs-filesystem>=0.23.1 in c:\\users\\shawn\\appdata\\local\\programs\\python\\python310\\lib\\site-packages (from tensorflow-intel==2.12.0->tensorflow) (0.31.0)\n",
      "Requirement already satisfied: gast<=0.4.0,>=0.2.1 in c:\\users\\shawn\\appdata\\roaming\\python\\python310\\site-packages (from tensorflow-intel==2.12.0->tensorflow) (0.4.0)\n",
      "Requirement already satisfied: h5py>=2.9.0 in c:\\users\\shawn\\appdata\\roaming\\python\\python310\\site-packages (from tensorflow-intel==2.12.0->tensorflow) (3.8.0)\n",
      "Requirement already satisfied: tensorflow-estimator<2.13,>=2.12.0 in c:\\users\\shawn\\appdata\\local\\programs\\python\\python310\\lib\\site-packages (from tensorflow-intel==2.12.0->tensorflow) (2.12.0)\n",
      "Requirement already satisfied: protobuf!=4.21.0,!=4.21.1,!=4.21.2,!=4.21.3,!=4.21.4,!=4.21.5,<5.0.0dev,>=3.20.3 in c:\\users\\shawn\\appdata\\local\\programs\\python\\python310\\lib\\site-packages (from tensorflow-intel==2.12.0->tensorflow) (4.22.1)\n",
      "Requirement already satisfied: absl-py>=1.0.0 in c:\\users\\shawn\\appdata\\roaming\\python\\python310\\site-packages (from tensorflow-intel==2.12.0->tensorflow) (1.4.0)\n",
      "Requirement already satisfied: typing-extensions>=3.6.6 in c:\\users\\shawn\\appdata\\local\\programs\\python\\python310\\lib\\site-packages (from tensorflow-intel==2.12.0->tensorflow) (4.5.0)\n",
      "Requirement already satisfied: astunparse>=1.6.0 in c:\\users\\shawn\\appdata\\roaming\\python\\python310\\site-packages (from tensorflow-intel==2.12.0->tensorflow) (1.6.3)\n",
      "Requirement already satisfied: tensorboard<2.13,>=2.12 in c:\\users\\shawn\\appdata\\roaming\\python\\python310\\site-packages (from tensorflow-intel==2.12.0->tensorflow) (2.12.0)\n",
      "Requirement already satisfied: wheel<1.0,>=0.23.0 in c:\\users\\shawn\\appdata\\local\\programs\\python\\python310\\lib\\site-packages (from astunparse>=1.6.0->tensorflow-intel==2.12.0->tensorflow) (0.40.0)\n",
      "Requirement already satisfied: scipy>=1.7 in c:\\users\\shawn\\appdata\\local\\programs\\python\\python310\\lib\\site-packages (from jax>=0.3.15->tensorflow-intel==2.12.0->tensorflow) (1.10.0)\n",
      "Requirement already satisfied: ml-dtypes>=0.0.3 in c:\\users\\shawn\\appdata\\roaming\\python\\python310\\site-packages (from jax>=0.3.15->tensorflow-intel==2.12.0->tensorflow) (0.0.4)\n",
      "Requirement already satisfied: requests<3,>=2.21.0 in c:\\users\\shawn\\appdata\\local\\programs\\python\\python310\\lib\\site-packages (from tensorboard<2.13,>=2.12->tensorflow-intel==2.12.0->tensorflow) (2.28.1)\n",
      "Requirement already satisfied: werkzeug>=1.0.1 in c:\\users\\shawn\\appdata\\local\\programs\\python\\python310\\lib\\site-packages (from tensorboard<2.13,>=2.12->tensorflow-intel==2.12.0->tensorflow) (2.2.3)\n",
      "Requirement already satisfied: google-auth-oauthlib<0.5,>=0.4.1 in c:\\users\\shawn\\appdata\\roaming\\python\\python310\\site-packages (from tensorboard<2.13,>=2.12->tensorflow-intel==2.12.0->tensorflow) (0.4.6)\n",
      "Requirement already satisfied: tensorboard-data-server<0.8.0,>=0.7.0 in c:\\users\\shawn\\appdata\\local\\programs\\python\\python310\\lib\\site-packages (from tensorboard<2.13,>=2.12->tensorflow-intel==2.12.0->tensorflow) (0.7.0)\n",
      "Requirement already satisfied: google-auth<3,>=1.6.3 in c:\\users\\shawn\\appdata\\roaming\\python\\python310\\site-packages (from tensorboard<2.13,>=2.12->tensorflow-intel==2.12.0->tensorflow) (2.17.0)\n",
      "Requirement already satisfied: tensorboard-plugin-wit>=1.6.0 in c:\\users\\shawn\\appdata\\local\\programs\\python\\python310\\lib\\site-packages (from tensorboard<2.13,>=2.12->tensorflow-intel==2.12.0->tensorflow) (1.8.1)\n",
      "Requirement already satisfied: markdown>=2.6.8 in c:\\users\\shawn\\appdata\\roaming\\python\\python310\\site-packages (from tensorboard<2.13,>=2.12->tensorflow-intel==2.12.0->tensorflow) (3.4.3)\n",
      "Requirement already satisfied: cachetools<6.0,>=2.0.0 in c:\\users\\shawn\\appdata\\roaming\\python\\python310\\site-packages (from google-auth<3,>=1.6.3->tensorboard<2.13,>=2.12->tensorflow-intel==2.12.0->tensorflow) (5.3.0)\n",
      "Requirement already satisfied: pyasn1-modules>=0.2.1 in c:\\users\\shawn\\appdata\\local\\programs\\python\\python310\\lib\\site-packages (from google-auth<3,>=1.6.3->tensorboard<2.13,>=2.12->tensorflow-intel==2.12.0->tensorflow) (0.2.8)\n",
      "Requirement already satisfied: rsa<5,>=3.1.4 in c:\\users\\shawn\\appdata\\local\\programs\\python\\python310\\lib\\site-packages (from google-auth<3,>=1.6.3->tensorboard<2.13,>=2.12->tensorflow-intel==2.12.0->tensorflow) (4.9)\n",
      "Requirement already satisfied: requests-oauthlib>=0.7.0 in c:\\users\\shawn\\appdata\\roaming\\python\\python310\\site-packages (from google-auth-oauthlib<0.5,>=0.4.1->tensorboard<2.13,>=2.12->tensorflow-intel==2.12.0->tensorflow) (1.3.1)\n",
      "Requirement already satisfied: urllib3<1.27,>=1.21.1 in c:\\users\\shawn\\appdata\\local\\programs\\python\\python310\\lib\\site-packages (from requests<3,>=2.21.0->tensorboard<2.13,>=2.12->tensorflow-intel==2.12.0->tensorflow) (1.26.13)\n",
      "Requirement already satisfied: certifi>=2017.4.17 in c:\\users\\shawn\\appdata\\local\\programs\\python\\python310\\lib\\site-packages (from requests<3,>=2.21.0->tensorboard<2.13,>=2.12->tensorflow-intel==2.12.0->tensorflow) (2022.12.7)\n",
      "Requirement already satisfied: idna<4,>=2.5 in c:\\users\\shawn\\appdata\\local\\programs\\python\\python310\\lib\\site-packages (from requests<3,>=2.21.0->tensorboard<2.13,>=2.12->tensorflow-intel==2.12.0->tensorflow) (3.4)\n",
      "Requirement already satisfied: charset-normalizer<3,>=2 in c:\\users\\shawn\\appdata\\local\\programs\\python\\python310\\lib\\site-packages (from requests<3,>=2.21.0->tensorboard<2.13,>=2.12->tensorflow-intel==2.12.0->tensorflow) (2.1.1)\n",
      "Requirement already satisfied: MarkupSafe>=2.1.1 in c:\\users\\shawn\\appdata\\local\\programs\\python\\python310\\lib\\site-packages (from werkzeug>=1.0.1->tensorboard<2.13,>=2.12->tensorflow-intel==2.12.0->tensorflow) (2.1.1)\n",
      "Requirement already satisfied: pyasn1<0.5.0,>=0.4.6 in c:\\users\\shawn\\appdata\\local\\programs\\python\\python310\\lib\\site-packages (from pyasn1-modules>=0.2.1->google-auth<3,>=1.6.3->tensorboard<2.13,>=2.12->tensorflow-intel==2.12.0->tensorflow) (0.4.8)\n",
      "Requirement already satisfied: oauthlib>=3.0.0 in c:\\users\\shawn\\appdata\\local\\programs\\python\\python310\\lib\\site-packages (from requests-oauthlib>=0.7.0->google-auth-oauthlib<0.5,>=0.4.1->tensorboard<2.13,>=2.12->tensorflow-intel==2.12.0->tensorflow) (3.2.2)\n"
     ]
    },
    {
     "name": "stderr",
     "output_type": "stream",
     "text": [
      "\n",
      "[notice] A new release of pip is available: 23.0 -> 23.0.1\n",
      "[notice] To update, run: C:\\Users\\shawn\\AppData\\Local\\Programs\\Python\\Python310\\python.exe -m pip install --upgrade pip\n"
     ]
    },
    {
     "name": "stdout",
     "output_type": "stream",
     "text": [
      "Requirement already satisfied: numpy in c:\\users\\shawn\\appdata\\local\\programs\\python\\python310\\lib\\site-packages (1.23.5)\n"
     ]
    },
    {
     "name": "stderr",
     "output_type": "stream",
     "text": [
      "\n",
      "[notice] A new release of pip is available: 23.0 -> 23.0.1\n",
      "[notice] To update, run: C:\\Users\\shawn\\AppData\\Local\\Programs\\Python\\Python310\\python.exe -m pip install --upgrade pip\n"
     ]
    }
   ],
   "source": [
    "# Run this code cell to install the necessary libraries\n",
    "!pip install matplotlib\n",
    "!pip install tensorflow\n",
    "!pip install numpy"
   ]
  },
  {
   "cell_type": "code",
   "execution_count": 1,
   "id": "eec97976-b074-440c-a364-3a86dd8e5570",
   "metadata": {
    "tags": []
   },
   "outputs": [],
   "source": [
    "# Importing Libraries\n",
    "import matplotlib.pyplot as plt\n",
    "%matplotlib inline\n",
    "import tensorflow as tf\n",
    "from tensorflow.keras import models, layers\n",
    "import numpy as np\n",
    "import random # Random sampling\n",
    "import time"
   ]
  },
  {
   "cell_type": "code",
   "execution_count": 2,
   "id": "61fa0903-2d1f-4a40-9688-09b17cd23e4f",
   "metadata": {},
   "outputs": [
    {
     "name": "stdout",
     "output_type": "stream",
     "text": [
      "*** MNIST Train ***\n",
      "np.shape(mnist_x_train) = (60000, 28, 28)\n",
      "np.shape(mnist_y_train) = (60000,)\n",
      "Unique labels:\n",
      "0\n",
      "1\n",
      "2\n",
      "3\n",
      "4\n",
      "5\n",
      "6\n",
      "7\n",
      "8\n",
      "9\n",
      "Data point visualization:\n"
     ]
    },
    {
     "data": {
      "image/png": "[encoded data removed]",
      "text/plain": [
       "<Figure size 1440x72 with 10 Axes>"
      ]
     },
     "metadata": {
      "needs_background": "light"
     },
     "output_type": "display_data"
    },
    {
     "name": "stdout",
     "output_type": "stream",
     "text": [
      "*** MNIST Test ***\n",
      "np.shape(mnist_x_test) = (10000, 28, 28)\n",
      "np.shape(mnist_y_test) = (10000,)\n",
      "Unique labels:\n",
      "0\n",
      "1\n",
      "2\n",
      "3\n",
      "4\n",
      "5\n",
      "6\n",
      "7\n",
      "8\n",
      "9\n",
      "Data point visualization:\n"
     ]
    },
    {
     "data": {
      "image/png": "[encoded data removed]",
      "text/plain": [
       "<Figure size 1440x72 with 10 Axes>"
      ]
     },
     "metadata": {
      "needs_background": "light"
     },
     "output_type": "display_data"
    }
   ],
   "source": [
    "# Loading MNIST database\n",
    "mnist = tf.keras.datasets.mnist\n",
    "(mnist_x_train, mnist_y_train), (mnist_x_test, mnist_y_test) = mnist.load_data()\n",
    "\n",
    "# MNIST Train set\n",
    "## Print unique labels\n",
    "print(\"*** MNIST Train ***\")\n",
    "print(f\"np.shape(mnist_x_train) = {np.shape(mnist_x_train)}\")\n",
    "print(f\"np.shape(mnist_y_train) = {np.shape(mnist_y_train)}\")\n",
    "uniqueArr = np.unique(mnist_y_train)\n",
    "uniqueArrSize = np.size(uniqueArr)\n",
    "print(\"Unique labels:\")\n",
    "for label in uniqueArr:\n",
    "    print(label) \n",
    "    \n",
    "## Show a single example of each label from the training set\n",
    "figTrain, axTrain = plt.subplots(1, uniqueArrSize, figsize=(20, 1))\n",
    "print(\"Data point visualization:\")\n",
    "for i in range(uniqueArrSize):\n",
    "    # Use the first example of a specified label\n",
    "    sample = mnist_x_train[mnist_y_train==i][0]\n",
    "    axTrain[i].imshow(sample, cmap=\"Greys\")\n",
    "    axTrain[i].set_title(f\"Train Label: {i}\")\n",
    "plt.show()\n",
    "\n",
    "# MNIST Test set\n",
    "## Print unique labels\n",
    "print(\"*** MNIST Test ***\")\n",
    "print(f\"np.shape(mnist_x_test) = {np.shape(mnist_x_test)}\")\n",
    "print(f\"np.shape(mnist_y_test) = {np.shape(mnist_y_test)}\")\n",
    "uniqueArr = np.unique(mnist_y_test)\n",
    "uniqueArrSize = np.size(uniqueArr)\n",
    "print(\"Unique labels:\")\n",
    "for label in uniqueArr:\n",
    "    print(label)\n",
    "    \n",
    "## Show a single example of each label from the testing set\n",
    "print(\"Data point visualization:\")\n",
    "figTest, axTest = plt.subplots(1, uniqueArrSize, figsize=(20, 1))\n",
    "for i in range(uniqueArrSize):\n",
    "    # Use the first example of a specified label\n",
    "    sample = mnist_x_test[mnist_y_test==i][0]\n",
    "    axTest[i].imshow(sample, cmap=\"Greys\")\n",
    "    axTest[i].set_title(f\"Test Label: {i}\")\n",
    "plt.show()"
   ]
  },
  {
   "cell_type": "markdown",
   "id": "f94083a0-0177-4865-9316-7012c9d87700",
   "metadata": {},
   "source": [
    "### Filtering non-binary digits\n",
    "Remember that our goal at this stage is to curate our own 4-digit binary number database - let's discard all examples not labeled $0$ or $1$."
   ]
  },
  {
   "cell_type": "code",
   "execution_count": 3,
   "id": "1218cf09-f1c4-43da-b1de-51af8fa0fe23",
   "metadata": {},
   "outputs": [],
   "source": [
    "def filterMNIST(train, test):\n",
    "    # Train set\n",
    "    filterCondition = np.isin(train[1], [0, 1])\n",
    "    out_train = (train[0][filterCondition], train[1][filterCondition]) # Boolean indexing\n",
    "    # Test set\n",
    "    filterCondition = np.isin(test[1], [0, 1])\n",
    "    out_test = (test[0][filterCondition], test[1][filterCondition]) # Boolean indexing\n",
    "    return out_train, out_test"
   ]
  },
  {
   "cell_type": "code",
   "execution_count": 4,
   "id": "14ad7765-1035-4577-891b-9127385d0145",
   "metadata": {},
   "outputs": [
    {
     "name": "stdout",
     "output_type": "stream",
     "text": [
      "*** Binar.ai Train ***\n",
      "np.shape(filtered_mnist_x_train) = (12665, 28, 28)\n",
      "np.shape(filtered_mnist_y_train) = (12665,)\n",
      "Unique labels:\n",
      "0\n",
      "1\n",
      "Data point visualization:\n"
     ]
    },
    {
     "data": {
      "image/png": "[encoded data removed]",
      "text/plain": [
       "<Figure size 360x72 with 2 Axes>"
      ]
     },
     "metadata": {
      "needs_background": "light"
     },
     "output_type": "display_data"
    },
    {
     "name": "stdout",
     "output_type": "stream",
     "text": [
      "*** Binar.ai Test ***\n",
      "np.shape(filtered_mnist_x_test) = (2115, 28, 28)\n",
      "np.shape(filtered_mnist_y_test) = (2115,)\n",
      "Unique labels:\n",
      "0\n",
      "1\n",
      "Data point visualization:\n"
     ]
    },
    {
     "data": {
      "image/png": "[encoded data removed]",
      "text/plain": [
       "<Figure size 360x72 with 2 Axes>"
      ]
     },
     "metadata": {
      "needs_background": "light"
     },
     "output_type": "display_data"
    }
   ],
   "source": [
    "# Call filter function\n",
    "(filtered_mnist_x_train, filtered_mnist_y_train), (filtered_mnist_x_test, filtered_mnist_y_test) = filterMNIST((mnist_x_train, mnist_y_train), (mnist_x_test, mnist_y_test))\n",
    "\n",
    "# Binar.ai Train set\n",
    "## Print unique labels\n",
    "print(\"*** Binar.ai Train ***\")\n",
    "print(f\"np.shape(filtered_mnist_x_train) = {np.shape(filtered_mnist_x_train)}\")\n",
    "print(f\"np.shape(filtered_mnist_y_train) = {np.shape(filtered_mnist_y_train)}\")\n",
    "uniqueArr = np.unique(filtered_mnist_y_train)\n",
    "uniqueArrSize = np.size(uniqueArr)\n",
    "print(\"Unique labels:\")\n",
    "for label in uniqueArr:\n",
    "    print(label) \n",
    "    \n",
    "## Show a single example of each label from the training set\n",
    "figTrain, axTrain = plt.subplots(1, uniqueArrSize, figsize=(5, 1))\n",
    "print(\"Data point visualization:\")\n",
    "for i in range(uniqueArrSize):\n",
    "    # Use the first example of a specified label\n",
    "    sample = filtered_mnist_x_train[filtered_mnist_y_train==i][0]\n",
    "    axTrain[i].imshow(sample, cmap=\"Greys\")\n",
    "    axTrain[i].set_title(f\"Train Label: {i}\")\n",
    "plt.show()\n",
    "\n",
    "# Binar.ai Test set\n",
    "## Print unique labels\n",
    "print(\"*** Binar.ai Test ***\")\n",
    "print(f\"np.shape(filtered_mnist_x_test) = {np.shape(filtered_mnist_x_test)}\")\n",
    "print(f\"np.shape(filtered_mnist_y_test) = {np.shape(filtered_mnist_y_test)}\")\n",
    "uniqueArr = np.unique(filtered_mnist_y_test)\n",
    "uniqueArrSize = np.size(uniqueArr)\n",
    "print(\"Unique labels:\")\n",
    "for label in uniqueArr:\n",
    "    print(label) \n",
    "    \n",
    "## Show a single example of each label from the training set\n",
    "figTrain, axTrain = plt.subplots(1, uniqueArrSize, figsize=(5, 1))\n",
    "print(\"Data point visualization:\")\n",
    "for i in range(uniqueArrSize):\n",
    "    # Use the first example of a specified label\n",
    "    sample = filtered_mnist_x_test[filtered_mnist_y_test==i][0]\n",
    "    axTrain[i].imshow(sample, cmap=\"Greys\")\n",
    "    axTrain[i].set_title(f\"Test Label: {i}\")\n",
    "plt.show()"
   ]
  },
  {
   "cell_type": "markdown",
   "id": "b8ef2375-192c-4b84-95aa-72bb38122f5a",
   "metadata": {},
   "source": [
    "By filtering the _MNIST Database_, we can observe that the number of examples for both training and testing sets have been significantly cut down from 60,000 to 12665 examples and 10,000 to 2115 examples respectively. Although the size of examples have been significantly decreased, there is no need for worry as by concatenating the data points we are able to form<br><br>\n",
    "$$\n",
    "{{}^{12665}\\!C_{4}} = 1.07 \\times 10^{15} = 1,070,000,000,000,000\n",
    "$$<br>\n",
    "combinations of 4-digit numbers from the filtered training set and<br><br>\n",
    "$$\n",
    "{{}^{2115}\\!C_{4}} = 8.3 \\times 10^{11} = 830,000,000,000\n",
    "$$<br>\n",
    "combinations of 4-digit numbers from the filtered testing set."
   ]
  },
  {
   "cell_type": "markdown",
   "id": "cd4e2727-76dd-4237-850b-61caa5f09f8b",
   "metadata": {},
   "source": [
    "### Forming our dataset\n",
    "Now with the filtered training and testing datasets, we can curate a dataset that fits our requirements:\n",
    "1. 4-digit binary number\n",
    "2. Examples of size $(28 \\times 4) \\times 28 = 112 \\times 4$<br><br>\n",
    "\n",
    "There are a few ways for us to go about picking which examples in the filtered datasets to use for forming our own examples. Some of which includes:\n",
    "- Simple Random Sampling\n",
    "- Systematic Sampling\n",
    "- Stratified Sampling<br>\n",
    "\n",
    "Along with this, we want to have training and testing samples that cover all variations of 4-digit binary numbers:\n",
    "$$\n",
    "\\begin{gather}\n",
    "S = \\{0000, 0001, 0010, ..., 1101, 1110, 1111\\}\\\\\n",
    "where \\space |S| = 2^4 = 16\n",
    "\\end{gather}\n",
    "$$<br>\n",
    "\n",
    "Before that, let's separate our dataset by their labels."
   ]
  },
  {
   "cell_type": "code",
   "execution_count": 5,
   "id": "57a7ff85-9b2e-4e7e-989e-7e269029f4d5",
   "metadata": {},
   "outputs": [],
   "source": [
    "def filterBinary(feature_set, label_set):\n",
    "    filterCondition = np.isin(label_set, [0])\n",
    "    set_zero = feature_set[filterCondition]\n",
    "    filterCondition = np.isin(label_set, [1])\n",
    "    set_one = feature_set[filterCondition]\n",
    "    return set_zero, set_one"
   ]
  },
  {
   "cell_type": "code",
   "execution_count": 6,
   "id": "65bb1bb7-3e60-452d-a1cd-18d0b72edbad",
   "metadata": {},
   "outputs": [
    {
     "name": "stdout",
     "output_type": "stream",
     "text": [
      "*** Ratio of zeros to ones in training and test sets ***\n",
      "Train zero:one ratio = 5923:6742\n",
      "Test zero:one ratio = 980:1135\n"
     ]
    }
   ],
   "source": [
    "# Split filtered train test set to zeros and ones\n",
    "filter_train_zero, filter_train_one = filterBinary(filtered_mnist_x_train, filtered_mnist_y_train)\n",
    "filter_test_zero, filter_test_one = filterBinary(filtered_mnist_x_test, filtered_mnist_y_test)\n",
    "\n",
    "# Some stats...\n",
    "filter_train_zero_count = np.shape(filter_train_zero)[0]\n",
    "filter_train_one_count = np.shape(filter_train_one)[0]\n",
    "print(\"*** Ratio of zeros to ones in training and test sets ***\")\n",
    "print(f\"Train zero:one ratio = {filter_train_zero_count}:{filter_train_one_count}\")\n",
    "filter_test_zero_count = np.shape(filter_test_zero)[0]\n",
    "filter_test_one_count = np.shape(filter_test_one)[0]\n",
    "print(f\"Test zero:one ratio = {filter_test_zero_count}:{filter_test_one_count}\")"
   ]
  },
  {
   "cell_type": "markdown",
   "id": "72f49748-5f01-488b-8acc-3c53fa450031",
   "metadata": {},
   "source": [
    "Now that we have separated our training and testing sets, we can finally start to curate our own training and testing datasets. For now, we want to fulfill every variation of 4-digit binary numbers as mentioned above. Let's start by curating $1000$ examples per variation. The digits will first be sampled using a simple random sampling."
   ]
  },
  {
   "cell_type": "code",
   "execution_count": 7,
   "id": "b06e820c-eb03-4c84-819c-dde9182e175b",
   "metadata": {},
   "outputs": [],
   "source": [
    "def curateBinaraiDataset(feature_set_zero, feature_set_one, examples_per_variation):\n",
    "    set_zero_size = np.shape(feature_set_zero)[0]\n",
    "    set_one_size = np.shape(feature_set_one)[0]\n",
    "    # Iterate from bin(0000) to bin(1111)\n",
    "    binarai_feature_set = np.zeros((examples_per_variation * 16, 28, 28*4), np.uint8)\n",
    "    binarai_label_set = np.zeros((examples_per_variation * 16), np.uint8)\n",
    "    counter = 0\n",
    "    for label in range(16):\n",
    "        print(f\"--- Forming examples for {bin(label)} ---\")\n",
    "        # Curate examples_per_variation number of examples for each variation (0000, 0001, ...)\n",
    "        for i in range(examples_per_variation):\n",
    "            # Progress report\n",
    "            if (i <= 100):\n",
    "                print(f\"{i+1}/{examples_per_variation}\", end='\\r', flush=True)\n",
    "                \n",
    "            elif(i > 100):\n",
    "                if (i % 100 == 0):\n",
    "                    print(f\"{i+1}/{examples_per_variation}\", end='\\r', flush=True)\n",
    "                if (i == examples_per_variation-1):\n",
    "                    print(f\"{i+1}/{examples_per_variation}\", end='\\r', flush=True)\n",
    "            \n",
    "            # Concatenation\n",
    "            new_example = np.zeros((28, 28), np.uint8)\n",
    "            for shiftIdx in range(4):\n",
    "                mask = 1 << shiftIdx\n",
    "                # Current bit is '1'\n",
    "                if (label & mask):\n",
    "                    # Randomly select from feature_set_one dataset\n",
    "                    sample = feature_set_one[random.randrange(set_one_size)]\n",
    "                    if (shiftIdx > 0):\n",
    "                        new_example = np.hstack((sample, new_example))\n",
    "                    else:\n",
    "                        new_example = sample\n",
    "                # Current bit is '0'\n",
    "                else:\n",
    "                    # Randomly select from feature_set_zero dataset\n",
    "                    sample = feature_set_zero[random.randrange(set_zero_size)]\n",
    "                    if (shiftIdx > 0):\n",
    "                        new_example = np.hstack((sample, new_example))\n",
    "                    else:\n",
    "                        new_example = sample\n",
    "                    \n",
    "            # Append newly curated example to binarai dataset\n",
    "            binarai_feature_set[counter] = new_example\n",
    "            binarai_label_set[counter] = label\n",
    "            counter = counter+1\n",
    "\n",
    "    return (binarai_feature_set, binarai_label_set)"
   ]
  },
  {
   "cell_type": "code",
   "execution_count": 8,
   "id": "8e2e6640-aabd-482a-b1c8-45bb2e07dd87",
   "metadata": {},
   "outputs": [
    {
     "name": "stdout",
     "output_type": "stream",
     "text": [
      "*** Curating Train Set ***\n",
      "--- Forming examples for 0b0 ---\n",
      "--- Forming examples for 0b1 ---\n",
      "--- Forming examples for 0b10 ---\n",
      "--- Forming examples for 0b11 ---\n",
      "--- Forming examples for 0b100 ---\n",
      "--- Forming examples for 0b101 ---\n",
      "--- Forming examples for 0b110 ---\n",
      "--- Forming examples for 0b111 ---\n",
      "--- Forming examples for 0b1000 ---\n",
      "--- Forming examples for 0b1001 ---\n",
      "--- Forming examples for 0b1010 ---\n",
      "--- Forming examples for 0b1011 ---\n",
      "--- Forming examples for 0b1100 ---\n",
      "--- Forming examples for 0b1101 ---\n",
      "--- Forming examples for 0b1110 ---\n",
      "--- Forming examples for 0b1111 ---\n",
      "6000/6000\r"
     ]
    },
    {
     "data": {
      "image/png": "[encoded data removed]",
      "text/plain": [
       "<Figure size 720x720 with 16 Axes>"
      ]
     },
     "metadata": {
      "needs_background": "light"
     },
     "output_type": "display_data"
    },
    {
     "name": "stdout",
     "output_type": "stream",
     "text": [
      "*** Curating Test Set ***\n",
      "--- Forming examples for 0b0 ---\n",
      "--- Forming examples for 0b1 ---\n",
      "--- Forming examples for 0b10 ---\n",
      "--- Forming examples for 0b11 ---\n",
      "--- Forming examples for 0b100 ---\n",
      "--- Forming examples for 0b101 ---\n",
      "--- Forming examples for 0b110 ---\n",
      "--- Forming examples for 0b111 ---\n",
      "--- Forming examples for 0b1000 ---\n",
      "--- Forming examples for 0b1001 ---\n",
      "--- Forming examples for 0b1010 ---\n",
      "--- Forming examples for 0b1011 ---\n",
      "--- Forming examples for 0b1100 ---\n",
      "--- Forming examples for 0b1101 ---\n",
      "--- Forming examples for 0b1110 ---\n",
      "--- Forming examples for 0b1111 ---\n",
      "2000/2000\r"
     ]
    },
    {
     "data": {
      "image/png": "[encoded data removed]",
      "text/plain": [
       "<Figure size 720x720 with 16 Axes>"
      ]
     },
     "metadata": {
      "needs_background": "light"
     },
     "output_type": "display_data"
    }
   ],
   "source": [
    "# Curate for Training set\n",
    "print(\"*** Curating Train Set ***\")\n",
    "(binarai_x_train, binarai_y_train) = curateBinaraiDataset(filter_train_zero, filter_train_one, 6000)\n",
    "\n",
    "figTrain, axTrain = plt.subplots(4, 4, figsize=(10, 10))\n",
    "for i in range(16):\n",
    "    # Use the first example of a specified label\n",
    "    sample = binarai_x_train[binarai_y_train==i][0]\n",
    "    axTrain[int(i/4)][int(i%4)].imshow(sample, cmap=\"Greys\")\n",
    "    axTrain[int(i/4)][int(i%4)].set_title(f\"Train Label: {bin(i)}\")\n",
    "plt.show()\n",
    "\n",
    "# Curate for Testing set\n",
    "print(\"*** Curating Test Set ***\")\n",
    "(binarai_x_test, binarai_y_test) = curateBinaraiDataset(filter_test_zero, filter_test_one, 2000)\n",
    "\n",
    "figTrain, axTrain = plt.subplots(4, 4, figsize=(10, 10))\n",
    "for i in range(16):\n",
    "    # Use the first example of a specified label\n",
    "    sample = binarai_x_test[binarai_y_test==i][0]\n",
    "    axTrain[int(i/4)][int(i%4)].imshow(sample, cmap=\"Greys\")\n",
    "    axTrain[int(i/4)][int(i%4)].set_title(f\"Test Label: {bin(i)}\")\n",
    "plt.show()"
   ]
  },
  {
   "cell_type": "markdown",
   "id": "bd978962-13c8-46fb-8517-21304db39c50",
   "metadata": {},
   "source": [
    "## Convolution Neural Network\n",
    "Now with our very own training and testing sets, let's implement the CNN to recognize our binaries. We will be heavily referencing from [this](Convolution_Neural_Network.ipynb) where we experimented on a simple handwritten digit classification problem.<br><br>\n",
    "Before that, let's prepare our datasets for use with our CNN:"
   ]
  },
  {
   "cell_type": "code",
   "execution_count": 9,
   "id": "8f00bb9f-5c5a-42ad-a801-d1b95533a1f7",
   "metadata": {},
   "outputs": [],
   "source": [
    "# Reshape feature set to have 1 color channel(luminance) for grescale\n",
    "binarai_x_train = binarai_x_train.reshape(binarai_x_train.shape[0], binarai_x_train.shape[1], binarai_x_train.shape[2], 1)\n",
    "binarai_x_test = binarai_x_test.reshape(binarai_x_test.shape[0], binarai_x_test.shape[1], binarai_x_test.shape[2], 1)\n",
    "\n",
    "# Normalize values for better performance\n",
    "binarai_x_train = binarai_x_train.astype('float32') / 255\n",
    "binarai_x_test = binarai_x_test.astype('float32') / 255\n",
    "\n",
    "# Turn ordinal data for labels into categorical (One-hot encode)\n",
    "binarai_y_train = tf.keras.utils.to_categorical(binarai_y_train)\n",
    "binarai_y_test = tf.keras.utils.to_categorical(binarai_y_test)"
   ]
  },
  {
   "cell_type": "markdown",
   "id": "4af6ca6f-2d69-4ce8-bab9-7231b3f111a0",
   "metadata": {},
   "source": [
    "Now let's setup our CNN:"
   ]
  },
  {
   "cell_type": "code",
   "execution_count": 25,
   "id": "1182727a-e546-4296-b561-653491e06159",
   "metadata": {},
   "outputs": [
    {
     "name": "stdout",
     "output_type": "stream",
     "text": [
      "Model: \"sequential\"\n",
      "_________________________________________________________________\n",
      " Layer (type)                Output Shape              Param #   \n",
      "=================================================================\n",
      " conv2d (Conv2D)             (None, 26, 110, 32)       320       \n",
      "                                                                 \n",
      " max_pooling2d (MaxPooling2D  (None, 13, 55, 32)       0         \n",
      " )                                                               \n",
      "                                                                 \n",
      " conv2d_1 (Conv2D)           (None, 11, 53, 64)        18496     \n",
      "                                                                 \n",
      " max_pooling2d_1 (MaxPooling  (None, 5, 26, 64)        0         \n",
      " 2D)                                                             \n",
      "                                                                 \n",
      " flatten (Flatten)           (None, 8320)              0         \n",
      "                                                                 \n",
      " dense (Dense)               (None, 64)                532544    \n",
      "                                                                 \n",
      " dense_1 (Dense)             (None, 16)                1040      \n",
      "                                                                 \n",
      "=================================================================\n",
      "Total params: 552,400\n",
      "Trainable params: 552,400\n",
      "Non-trainable params: 0\n",
      "_________________________________________________________________\n"
     ]
    }
   ],
   "source": [
    "# Define CNN base\n",
    "model = models.Sequential()\n",
    "\n",
    "# Add layers into the model\n",
    "model.add(layers.Conv2D(32, (3, 3), activation='relu', input_shape=(28,28*4,1)))\n",
    "model.add(layers.MaxPooling2D((2,2)))\n",
    "model.add(layers.Conv2D(64, (3,3), activation='relu'))\n",
    "model.add(layers.MaxPooling2D((2,2)))\n",
    "model.add(layers.Flatten())\n",
    "model.add(layers.Dense(64, activation='relu'))\n",
    "model.add(layers.Dense(16, activation='softmax'))\n",
    "\n",
    "# Describe the model\n",
    "model.summary()"
   ]
  },
  {
   "cell_type": "code",
   "execution_count": 26,
   "id": "32407fec-1a41-4b89-9968-ed5679896725",
   "metadata": {
    "tags": []
   },
   "outputs": [
    {
     "name": "stdout",
     "output_type": "stream",
     "text": [
      "1200/1200 [==============================] - 117s 97ms/step - loss: 0.0542 - accuracy: 0.9829 - true_positives: 75106.0000 - false_positives: 652.0000 - false_negatives: 1694.0000 - true_negatives: 1151348.0000 - val_loss: 24.6812 - val_accuracy: 0.0624 - val_true_positives: 1199.0000 - val_false_positives: 16623.0000 - val_false_negatives: 18001.0000 - val_true_negatives: 271377.0000\n"
     ]
    }
   ],
   "source": [
    "# Configures model for training\n",
    "# Optimizers are techniques or algorithms used to decrease loss (an error) by tuning various parameters and weights,\n",
    "# hence minimizing the loss function, providing better accuracy of model faster.  - Gradient Descent, Stochastic GD, RMSProp, etc.\n",
    "model.compile(optimizer='rmsprop',\n",
    "             loss='categorical_crossentropy',\n",
    "             metrics=['accuracy',\n",
    "                      tf.keras.metrics.TruePositives(),\n",
    "                      tf.keras.metrics.FalsePositives(),\n",
    "                      tf.keras.metrics.FalseNegatives(),\n",
    "                     tf.keras.metrics.TrueNegatives()])\n",
    "\n",
    "# Fitting the model\n",
    "history = model.fit(binarai_x_train, binarai_y_train, validation_split=0.2, epochs=1, batch_size=64)"
   ]
  },
  {
   "cell_type": "markdown",
   "id": "0f058449-4229-4047-a16a-b12b2f3e2905",
   "metadata": {},
   "source": [
    "## Prediction with custom images"
   ]
  },
  {
   "cell_type": "code",
   "execution_count": 27,
   "id": "5c3a76ee-e110-4b1c-973f-e48bc9c00088",
   "metadata": {},
   "outputs": [
    {
     "data": {
      "text/plain": [
       "<matplotlib.image.AxesImage at 0x2277df93af0>"
      ]
     },
     "execution_count": 27,
     "metadata": {},
     "output_type": "execute_result"
    },
    {
     "data": {
      "image/png": "[encoded data removed]",
      "text/plain": [
       "<Figure size 640x480 with 1 Axes>"
      ]
     },
     "metadata": {},
     "output_type": "display_data"
    }
   ],
   "source": [
    "from PIL import Image\n",
    "\n",
    "img = Image.open('custom_tests/custom_label_6.png')\n",
    "imgData = np.asarray(img.getchannel('A'))\n",
    "plt.imshow(imgData, cmap='Greys')"
   ]
  },
  {
   "cell_type": "code",
   "execution_count": 28,
   "id": "5b9ff59f-8e7c-422a-bc04-59ef95ff5742",
   "metadata": {},
   "outputs": [
    {
     "name": "stdout",
     "output_type": "stream",
     "text": [
      "1/1 [==============================] - 0s 65ms/step\n",
      "[[4.0277717e-10 4.7016000e-14 1.2723790e-07 1.7840127e-10 3.9993346e-09\n",
      "  3.6736639e-10 9.9999750e-01 2.2790687e-06 1.7944897e-10 5.9792671e-13\n",
      "  2.5575794e-08 6.3743375e-09 8.1717751e-08 4.2444329e-10 4.0414482e-13\n",
      "  2.8172595e-14]]\n",
      "Predicted class: 6\n"
     ]
    }
   ],
   "source": [
    "imgData = imgData.flatten()\n",
    "imgData = imgData.reshape(1, 28, 112, 1)\n",
    "imgData = imgData.astype('float32') / 255\n",
    "result = model.predict(imgData)\n",
    "print(result)\n",
    "print(f\"Predicted class: {np.argmax(result)}\")"
   ]
  },
  {
   "cell_type": "markdown",
   "id": "589381ed-336c-476b-9db1-ddbbe61b4ef7",
   "metadata": {},
   "source": [
    "## Evaluation & Experimentation\n",
    "Now that we have successfully implemented our very own 4-digit binary number classification algorithm, let's mess around with the model and hopefully we will learn something extra by doing so!\n",
    "\n",
    "### Overfitting\n",
    "Looking at the statistics spat out from model.fit() we can see that the validation loss(24.6812) is much higher than training loss(0.0542), a clear sign of overfitting. To tackle this, we will be using a _Dropout_ layer.<br>\n",
    "A dropout layer helps with overfitting by randomly dropping out (i.e., set to zero) a certain percentage of the input units in a layer during training, forcing the network to learn redundant representations and reduces the risk of overfitting. Let's implement this."
   ]
  },
  {
   "cell_type": "code",
   "execution_count": 39,
   "id": "d0cf0c43-9bbe-4387-a179-19d306aeaf28",
   "metadata": {},
   "outputs": [
    {
     "name": "stdout",
     "output_type": "stream",
     "text": [
      "Model: \"sequential_5\"\n",
      "_________________________________________________________________\n",
      " Layer (type)                Output Shape              Param #   \n",
      "=================================================================\n",
      " conv2d_10 (Conv2D)          (None, 26, 110, 32)       320       \n",
      "                                                                 \n",
      " max_pooling2d_10 (MaxPoolin  (None, 13, 55, 32)       0         \n",
      " g2D)                                                            \n",
      "                                                                 \n",
      " dropout_4 (Dropout)         (None, 13, 55, 32)        0         \n",
      "                                                                 \n",
      " conv2d_11 (Conv2D)          (None, 11, 53, 64)        18496     \n",
      "                                                                 \n",
      " max_pooling2d_11 (MaxPoolin  (None, 5, 26, 64)        0         \n",
      " g2D)                                                            \n",
      "                                                                 \n",
      " dropout_5 (Dropout)         (None, 5, 26, 64)         0         \n",
      "                                                                 \n",
      " flatten_5 (Flatten)         (None, 8320)              0         \n",
      "                                                                 \n",
      " dense_10 (Dense)            (None, 64)                532544    \n",
      "                                                                 \n",
      " dense_11 (Dense)            (None, 16)                1040      \n",
      "                                                                 \n",
      "=================================================================\n",
      "Total params: 552,400\n",
      "Trainable params: 552,400\n",
      "Non-trainable params: 0\n",
      "_________________________________________________________________\n"
     ]
    }
   ],
   "source": [
    "# Define CNN base\n",
    "model_dropout = models.Sequential()\n",
    "\n",
    "# Add layers into the model\n",
    "model_dropout.add(layers.Conv2D(32, (3, 3), activation='relu', input_shape=(28,28*4,1)))\n",
    "model_dropout.add(layers.MaxPooling2D((2,2)))\n",
    "model_dropout.add(layers.Dropout(0.5))\n",
    "model_dropout.add(layers.Conv2D(64, (3,3), activation='relu'))\n",
    "model_dropout.add(layers.MaxPooling2D((2,2)))\n",
    "model_dropout.add(layers.Dropout(0.5))\n",
    "model_dropout.add(layers.Flatten())\n",
    "model_dropout.add(layers.Dense(64, activation='relu'))\n",
    "model_dropout.add(layers.Dense(16, activation='softmax'))\n",
    "\n",
    "# Describe the model\n",
    "model_dropout.summary()"
   ]
  },
  {
   "cell_type": "code",
   "execution_count": 40,
   "id": "46031c79-1e31-4f70-9adb-56b5200d7b16",
   "metadata": {},
   "outputs": [
    {
     "name": "stdout",
     "output_type": "stream",
     "text": [
      "Epoch 1/3\n",
      "1200/1200 [==============================] - 123s 102ms/step - loss: 0.0734 - accuracy: 0.9764 - true_positives_6: 74517.0000 - false_positives_6: 989.0000 - false_negatives_6: 2283.0000 - true_negatives_6: 1151011.0000 - val_loss: 19.6896 - val_accuracy: 0.0624 - val_true_positives_6: 1199.0000 - val_false_positives_6: 16979.0000 - val_false_negatives_6: 18001.0000 - val_true_negatives_6: 271021.0000\n",
      "Epoch 2/3\n",
      "1200/1200 [==============================] - 115s 96ms/step - loss: 0.0077 - accuracy: 0.9974 - true_positives_6: 76599.0000 - false_positives_6: 201.0000 - false_negatives_6: 201.0000 - true_negatives_6: 1151799.0000 - val_loss: 22.0385 - val_accuracy: 0.0624 - val_true_positives_6: 1198.0000 - val_false_positives_6: 17294.0000 - val_false_negatives_6: 18002.0000 - val_true_negatives_6: 270706.0000\n",
      "Epoch 3/3\n",
      "1200/1200 [==============================] - 117s 97ms/step - loss: 0.0049 - accuracy: 0.9985 - true_positives_6: 76683.0000 - false_positives_6: 117.0000 - false_negatives_6: 117.0000 - true_negatives_6: 1151883.0000 - val_loss: 20.5705 - val_accuracy: 0.0624 - val_true_positives_6: 1199.0000 - val_false_positives_6: 16417.0000 - val_false_negatives_6: 18001.0000 - val_true_negatives_6: 271583.0000\n"
     ]
    }
   ],
   "source": [
    "# Configuration\n",
    "model_dropout.compile(optimizer='rmsprop',\n",
    "             loss='categorical_crossentropy',\n",
    "             metrics=['accuracy',\n",
    "                      tf.keras.metrics.TruePositives(),\n",
    "                      tf.keras.metrics.FalsePositives(),\n",
    "                      tf.keras.metrics.FalseNegatives(),\n",
    "                     tf.keras.metrics.TrueNegatives()])\n",
    "\n",
    "# Fitting the model\n",
    "history_dropout = model_dropout.fit(binarai_x_train, binarai_y_train, validation_split=0.2, epochs=3, batch_size=64)"
   ]
  },
  {
   "cell_type": "markdown",
   "id": "1fe0011d-8a19-4180-9ac2-0d977ad8f438",
   "metadata": {},
   "source": [
    "Weird, the validation accuracy seems to be extremely low as compared to training accuracy. Not only that, the validation accuracy does not seem to be increasing.<br>\n",
    "To tackle this, let's increase the size of the training and testing sets."
   ]
  },
  {
   "cell_type": "code",
   "execution_count": 10,
   "id": "b4266757-ffb6-4cf2-b1fc-663ceaa58f24",
   "metadata": {},
   "outputs": [
    {
     "name": "stdout",
     "output_type": "stream",
     "text": [
      "Curating for train set\n",
      "--- Forming examples for 0b0 ---\n",
      "--- Forming examples for 0b1 ---\n",
      "--- Forming examples for 0b10 ---\n",
      "--- Forming examples for 0b11 ---\n",
      "--- Forming examples for 0b100 ---\n",
      "--- Forming examples for 0b101 ---\n",
      "--- Forming examples for 0b110 ---\n",
      "--- Forming examples for 0b111 ---\n",
      "--- Forming examples for 0b1000 ---\n",
      "--- Forming examples for 0b1001 ---\n",
      "--- Forming examples for 0b1010 ---\n",
      "--- Forming examples for 0b1011 ---\n",
      "--- Forming examples for 0b1100 ---\n",
      "--- Forming examples for 0b1101 ---\n",
      "--- Forming examples for 0b1110 ---\n",
      "--- Forming examples for 0b1111 ---\n",
      "Curating for test set\n",
      "--- Forming examples for 0b0 ---\n",
      "--- Forming examples for 0b1 ---\n",
      "--- Forming examples for 0b10 ---\n",
      "--- Forming examples for 0b11 ---\n",
      "--- Forming examples for 0b100 ---\n",
      "--- Forming examples for 0b101 ---\n",
      "--- Forming examples for 0b110 ---\n",
      "--- Forming examples for 0b111 ---\n",
      "--- Forming examples for 0b1000 ---\n",
      "--- Forming examples for 0b1001 ---\n",
      "--- Forming examples for 0b1010 ---\n",
      "--- Forming examples for 0b1011 ---\n",
      "--- Forming examples for 0b1100 ---\n",
      "--- Forming examples for 0b1101 ---\n",
      "--- Forming examples for 0b1110 ---\n",
      "--- Forming examples for 0b1111 ---\n",
      "6000/6000\r"
     ]
    }
   ],
   "source": [
    "print(\"Curating for train set\")\n",
    "(binarai_x_train_expanded, binarai_y_train_expanded) = curateBinaraiDataset(filter_train_zero, filter_train_one, 30000)\n",
    "print(\"Curating for test set\")\n",
    "(binarai_x_test_expanded, binarai_y_test_expanded) = curateBinaraiDataset(filter_train_zero, filter_train_one, 6000)\n",
    "\n",
    "# Reshape feature set to have 1 color channel(luminance) for grescale\n",
    "binarai_x_train_expanded = binarai_x_train_expanded.reshape(binarai_x_train_expanded.shape[0], binarai_x_train_expanded.shape[1], binarai_x_train_expanded.shape[2], 1)\n",
    "binarai_x_test_expanded = binarai_x_test_expanded.reshape(binarai_x_test_expanded.shape[0], binarai_x_test_expanded.shape[1], binarai_x_test_expanded.shape[2], 1)\n",
    "\n",
    "# Normalize values for better performance\n",
    "binarai_x_train_expanded = binarai_x_train_expanded.astype('float32') / 255\n",
    "binarai_x_test_expanded = binarai_x_test_expanded.astype('float32') / 255\n",
    "\n",
    "# Turn ordinal data for labels into categorical (One-hot encode)\n",
    "binarai_y_train_expanded = tf.keras.utils.to_categorical(binarai_y_train_expanded)\n",
    "binarai_y_test_expanded = tf.keras.utils.to_categorical(binarai_y_test_expanded)"
   ]
  },
  {
   "cell_type": "markdown",
   "id": "9db52551-48d2-413a-8d46-424e4c09779b",
   "metadata": {},
   "source": [
    "Furthermore, we will add regularization layers(Dropout) and increase the batch size to 128 while bringing epochs back down to 1."
   ]
  },
  {
   "cell_type": "code",
   "execution_count": 60,
   "id": "9b7eb99b-1867-4a4c-bd0e-2dcb5102b021",
   "metadata": {},
   "outputs": [
    {
     "name": "stdout",
     "output_type": "stream",
     "text": [
      "2625/2625 [==============================] - 471s 179ms/step - loss: 0.0306 - accuracy: 0.9903 - true_positives_14: 331946.0000 - false_positives_14: 1792.0000 - false_negatives_14: 4054.0000 - true_negatives_14: 5038208.0000 - val_loss: 20.4563 - val_accuracy: 0.1663 - val_true_positives_14: 23946.0000 - val_false_positives_14: 115142.0000 - val_false_negatives_14: 120054.0000 - val_true_negatives_14: 2044858.0000\n"
     ]
    }
   ],
   "source": [
    "# Redefine model to \"clear\" it\n",
    "model_dropout = models.Sequential()\n",
    "\n",
    "# Add layers into the model\n",
    "model_dropout.add(layers.Conv2D(32, (3, 3), activation='relu', input_shape=(28,28*4,1)))\n",
    "model_dropout.add(layers.MaxPooling2D((2,2)))\n",
    "model_dropout.add(layers.Dropout(0.5))\n",
    "model_dropout.add(layers.Conv2D(64, (3,3), activation='relu'))\n",
    "model_dropout.add(layers.MaxPooling2D((2,2)))\n",
    "model_dropout.add(layers.Dropout(0.5))\n",
    "model_dropout.add(layers.Flatten())\n",
    "model_dropout.add(layers.Dense(32, activation='relu'))\n",
    "model_dropout.add(layers.Dense(16, activation='softmax'))\n",
    "\n",
    "# Configuration\n",
    "model_dropout.compile(optimizer='rmsprop',\n",
    "             loss='categorical_crossentropy',\n",
    "             metrics=['accuracy',\n",
    "                      tf.keras.metrics.TruePositives(),\n",
    "                      tf.keras.metrics.FalsePositives(),\n",
    "                      tf.keras.metrics.FalseNegatives(),\n",
    "                     tf.keras.metrics.TrueNegatives()])\n",
    "\n",
    "# Fitting the model\n",
    "history_dropout = model_dropout.fit(binarai_x_train_expanded, binarai_y_train_expanded, validation_split=0.3, epochs=1, batch_size=128)"
   ]
  },
  {
   "cell_type": "markdown",
   "id": "3b76af2d-ae1c-4b4b-8481-91dcb22d3071",
   "metadata": {},
   "source": [
    "Seems like there has been some increase in the validation accuracy. Let's change up the optimizer to use Adaptive Moment Estimation(Adam) optimizer and see if that helps."
   ]
  },
  {
   "cell_type": "code",
   "execution_count": 66,
   "id": "f478495b-fc42-4f1d-97cf-47aa25d863fd",
   "metadata": {},
   "outputs": [
    {
     "name": "stdout",
     "output_type": "stream",
     "text": [
      "2625/2625 [==============================] - 499s 190ms/step - loss: 0.0353 - accuracy: 0.9892 - true_positives_17: 331414.0000 - false_positives_17: 2039.0000 - false_negatives_17: 4586.0000 - true_negatives_17: 5037961.0000 - val_loss: 19.6775 - val_accuracy: 0.1664 - val_true_positives_17: 23963.0000 - val_false_positives_17: 119659.0000 - val_false_negatives_17: 120037.0000 - val_true_negatives_17: 2040341.0000\n"
     ]
    }
   ],
   "source": [
    "# Redefine model to \"clear\" it\n",
    "model_dropout = models.Sequential()\n",
    "\n",
    "# Add layers into the model\n",
    "model_dropout.add(layers.Conv2D(32, (3, 3), activation='relu', input_shape=(28,28*4,1)))\n",
    "model_dropout.add(layers.MaxPooling2D((2,2)))\n",
    "model_dropout.add(layers.Dropout(0.5))\n",
    "model_dropout.add(layers.Conv2D(64, (3,3), activation='relu'))\n",
    "model_dropout.add(layers.MaxPooling2D((2,2)))\n",
    "model_dropout.add(layers.Dropout(0.5))\n",
    "model_dropout.add(layers.Flatten())\n",
    "model_dropout.add(layers.Dense(32, activation='relu'))\n",
    "model_dropout.add(layers.Dense(16, activation='softmax'))\n",
    "\n",
    "# Configuration\n",
    "model_dropout.compile(optimizer=tf.keras.optimizers.Adam(learning_rate=0.001),\n",
    "             loss='categorical_crossentropy',\n",
    "             metrics=['accuracy',\n",
    "                      tf.keras.metrics.TruePositives(),\n",
    "                      tf.keras.metrics.FalsePositives(),\n",
    "                      tf.keras.metrics.FalseNegatives(),\n",
    "                     tf.keras.metrics.TrueNegatives()])\n",
    "\n",
    "# Fitting the model\n",
    "history_dropout = model_dropout.fit(binarai_x_train_expanded, binarai_y_train_expanded, validation_split=0.3, epochs=1, batch_size=128)"
   ]
  },
  {
   "cell_type": "markdown",
   "id": "c818ca39-44a7-4b0a-b7c1-7efb864c9fa4",
   "metadata": {},
   "source": [
    "As seen from the metrics, this has improved our overfitting issue ever so slightly."
   ]
  },
  {
   "cell_type": "markdown",
   "id": "51a5e65b-6e15-4496-b9e4-7b3e5496205d",
   "metadata": {
    "tags": []
   },
   "source": [
    "### Evaluation\n",
    "Now with the optimized model, let's compare it to the original model."
   ]
  },
  {
   "cell_type": "code",
   "execution_count": 63,
   "id": "b036a089-28c0-4029-b722-3e184d93b0f0",
   "metadata": {},
   "outputs": [
    {
     "name": "stdout",
     "output_type": "stream",
     "text": [
      "6000/6000 [==============================] - 472s 79ms/step - loss: 0.0096 - accuracy: 0.9969 - true_positives_15: 382513.0000 - false_positives_15: 626.0000 - false_negatives_15: 1487.0000 - true_negatives_15: 5759374.0000 - val_loss: 30.4171 - val_accuracy: 0.0625 - val_true_positives_15: 6000.0000 - val_false_positives_15: 89478.0000 - val_false_negatives_15: 90000.0000 - val_true_negatives_15: 1350522.0000\n",
      "1000/1000 [==============================] - 13s 13ms/step - loss: 6.0742 - accuracy: 0.8116 - true_positives_15: 25972.0000 - false_positives_15: 5996.0000 - false_negatives_15: 6028.0000 - true_negatives_15: 474004.0000\n",
      "1000/1000 [==============================] - 13s 13ms/step - loss: 6.1429 - accuracy: 0.7488 - true_positives_14: 23963.0000 - false_positives_14: 7707.0000 - false_negatives_14: 8037.0000 - true_negatives_14: 472293.0000\n"
     ]
    }
   ],
   "source": [
    "# Fit the original model to new dataset\n",
    "model = models.Sequential()\n",
    "# Add layers into the model\n",
    "model.add(layers.Conv2D(32, (3, 3), activation='relu', input_shape=(28,28*4,1)))\n",
    "model.add(layers.MaxPooling2D((2,2)))\n",
    "model.add(layers.Conv2D(64, (3,3), activation='relu'))\n",
    "model.add(layers.MaxPooling2D((2,2)))\n",
    "model.add(layers.Flatten())\n",
    "model.add(layers.Dense(64, activation='relu'))\n",
    "model.add(layers.Dense(16, activation='softmax'))\n",
    "model.compile(optimizer='rmsprop',\n",
    "             loss='categorical_crossentropy',\n",
    "             metrics=['accuracy',\n",
    "                      tf.keras.metrics.TruePositives(),\n",
    "                      tf.keras.metrics.FalsePositives(),\n",
    "                      tf.keras.metrics.FalseNegatives(),\n",
    "                     tf.keras.metrics.TrueNegatives()])\n",
    "history = model.fit(binarai_x_train_expanded, binarai_y_train_expanded, validation_split=0.2, epochs=1, batch_size=64)\n",
    "\n",
    "# Evaluate the model\n",
    "original_result = model.evaluate(binarai_x_train_expanded, binarai_y_test)\n",
    "optimized_result = model_dropout.evaluate(binarai_x_test, binarai_y_test)"
   ]
  },
  {
   "cell_type": "markdown",
   "id": "c09c35d9-b7af-4076-abab-c74321d87ff0",
   "metadata": {},
   "source": [
    "### Epochs, Epochs, Epochs\n",
    "One of the questions that we had in mind was _\"What happens if we increase the number of epochs?\"_ As an understanding, an epoch is defined as _a complete iteration through a dataset during the training process of the model_.<br>\n",
    "With every goal of all Machine Learning models, we hope that by increasing the epoch, we are able to increase the accuracy of the model. In the following cell, let's do just that and we may just see something interesting..."
   ]
  },
  {
   "cell_type": "code",
   "execution_count": 29,
   "id": "95d72018-2ef5-4dda-a0a3-4717241f40cd",
   "metadata": {},
   "outputs": [
    {
     "name": "stdout",
     "output_type": "stream",
     "text": [
      "Epoch 1/5\n",
      "1200/1200 [==============================] - 119s 98ms/step - loss: 0.0521 - accuracy: 0.9830 - true_positives_1: 75116.0000 - false_positives_1: 611.0000 - false_negatives_1: 1684.0000 - true_negatives_1: 1151389.0000 - val_loss: 26.2285 - val_accuracy: 0.0624 - val_true_positives_1: 1198.0000 - val_false_positives_1: 17849.0000 - val_false_negatives_1: 18002.0000 - val_true_negatives_1: 270151.0000\n",
      "Epoch 2/5\n",
      "1200/1200 [==============================] - 112s 93ms/step - loss: 0.0018 - accuracy: 0.9995 - true_positives_1: 76760.0000 - false_positives_1: 40.0000 - false_negatives_1: 40.0000 - true_negatives_1: 1151960.0000 - val_loss: 33.0261 - val_accuracy: 0.0625 - val_true_positives_1: 1200.0000 - val_false_positives_1: 17851.0000 - val_false_negatives_1: 18000.0000 - val_true_negatives_1: 270149.0000\n",
      "Epoch 3/5\n",
      "1200/1200 [==============================] - 106s 88ms/step - loss: 3.1145e-04 - accuracy: 0.9999 - true_positives_1: 76795.0000 - false_positives_1: 5.0000 - false_negatives_1: 5.0000 - true_negatives_1: 1151995.0000 - val_loss: 38.4502 - val_accuracy: 0.0625 - val_true_positives_1: 1200.0000 - val_false_positives_1: 17693.0000 - val_false_negatives_1: 18000.0000 - val_true_negatives_1: 270307.0000\n",
      "Epoch 4/5\n",
      "1200/1200 [==============================] - 110s 92ms/step - loss: 1.8553e-05 - accuracy: 1.0000 - true_positives_1: 76800.0000 - false_positives_1: 0.0000e+00 - false_negatives_1: 0.0000e+00 - true_negatives_1: 1152000.0000 - val_loss: 47.3718 - val_accuracy: 0.0625 - val_true_positives_1: 1200.0000 - val_false_positives_1: 17873.0000 - val_false_negatives_1: 18000.0000 - val_true_negatives_1: 270127.0000\n",
      "Epoch 5/5\n",
      "1200/1200 [==============================] - 108s 90ms/step - loss: 3.7192e-06 - accuracy: 1.0000 - true_positives_1: 76800.0000 - false_positives_1: 0.0000e+00 - false_negatives_1: 0.0000e+00 - true_negatives_1: 1152000.0000 - val_loss: 49.2854 - val_accuracy: 0.0625 - val_true_positives_1: 1200.0000 - val_false_positives_1: 17901.0000 - val_false_negatives_1: 18000.0000 - val_true_negatives_1: 270099.0000\n"
     ]
    }
   ],
   "source": [
    "# Define model - Modified from original model\n",
    "exp_epoch_model = models.Sequential()\n",
    "exp_epoch_model.add(layers.Conv2D(32, (3, 3), activation='relu', input_shape=(28,28*4,1)))\n",
    "exp_epoch_model.add(layers.MaxPooling2D((2,2)))\n",
    "exp_epoch_model.add(layers.Conv2D(64, (3,3), activation='relu'))\n",
    "exp_epoch_model.add(layers.MaxPooling2D((2,2)))\n",
    "exp_epoch_model.add(layers.Flatten())\n",
    "exp_epoch_model.add(layers.Dense(64, activation='relu'))\n",
    "exp_epoch_model.add(layers.Dense(16, activation='softmax'))\n",
    "\n",
    "# Configure and fit model with epoch=5 instead of 1 from before\n",
    "exp_epoch_model.compile(optimizer='rmsprop',\n",
    "             loss='categorical_crossentropy',\n",
    "             metrics=['accuracy',\n",
    "                      tf.keras.metrics.TruePositives(),\n",
    "                      tf.keras.metrics.FalsePositives(),\n",
    "                      tf.keras.metrics.FalseNegatives(),\n",
    "                     tf.keras.metrics.TrueNegatives()])\n",
    "history = exp_epoch_model.fit(binarai_x_train, binarai_y_train, validation_split=0.2, epochs=5, batch_size=64)"
   ]
  },
  {
   "cell_type": "code",
   "execution_count": 30,
   "id": "da7054a3-c974-4644-a216-34e9a5adc453",
   "metadata": {},
   "outputs": [
    {
     "name": "stdout",
     "output_type": "stream",
     "text": [
      "1000/1000 [==============================] - 13s 13ms/step - loss: 4.9416 - accuracy: 0.8098 - true_positives: 25913.0000 - false_positives: 5661.0000 - false_negatives: 6087.0000 - true_negatives: 474339.0000\n",
      "1000/1000 [==============================] - 13s 12ms/step - loss: 9.8534 - accuracy: 0.8119 - true_positives_1: 25982.0000 - false_positives_1: 5985.0000 - false_negatives_1: 6018.0000 - true_negatives_1: 474015.0000\n"
     ]
    }
   ],
   "source": [
    "# Evaluate the model\n",
    "one_epoch_result = model.evaluate(binarai_x_test, binarai_y_test)\n",
    "five_epoch_result = exp_epoch_model.evaluate(binarai_x_test, binarai_y_test)"
   ]
  },
  {
   "cell_type": "code",
   "execution_count": 31,
   "id": "73444657-c249-425c-8c17-87c0f7ff8cbb",
   "metadata": {},
   "outputs": [
    {
     "data": {
      "text/plain": [
       "Text(0, 0.5, 'Accuracy')"
      ]
     },
     "execution_count": 31,
     "metadata": {},
     "output_type": "execute_result"
    },
    {
     "data": {
      "image/png": "[encoded data removed]",
      "text/plain": [
       "<Figure size 640x480 with 1 Axes>"
      ]
     },
     "metadata": {},
     "output_type": "display_data"
    }
   ],
   "source": [
    "# Plot accuracy/epocs\n",
    "plt.plot(history.history['accuracy'])\n",
    "plt.xlabel(\"Epochs\")\n",
    "plt.ylabel(\"Accuracy\")"
   ]
  },
  {
   "cell_type": "markdown",
   "id": "a11dab85-74c4-4bc7-b331-6fa51b69b584",
   "metadata": {},
   "source": [
    "By training the model over 5 epochs, we see that most of the important features from the data has been learned after the first epoch and the accuracy of the model start to flatten out. From the printed output, we see that the accuracy is about $100\\%$ by the third epoch and should probably stop the training after the third epoch to save on training time."
   ]
  },
  {
   "cell_type": "markdown",
   "id": "278269b7-71c6-4f28-9062-c63756107bfd",
   "metadata": {},
   "source": [
    "### Batch Size - Small, Medium, Large?\n",
    "From dealing with the [Overfitting](#Overfitting) problem, we have learnt that adjusting the batch size can help reduce overfitting.<br>\n",
    "With the smallest batch size of _batch_size=1_, we are performing more individual back-propagations through the network, over-emphasizing individual effects, taking more time due to having to perform more back-propagations.<br>\n",
    "On the other hand, having a large batch size, let's say the size of the input, would mean that we are averaging the result of all the images, and then performing one back-propagation on the network. This might lead to us missing some little-seen features.<br><br>\n",
    "In the example below, we train our model with a batch size of 4096 and a single epoch and compare it to the previously trained model of batch size 64 and a single epoch:"
   ]
  },
  {
   "cell_type": "code",
   "execution_count": 19,
   "id": "a9a22306-02e4-4954-9f3c-8d8456f0a875",
   "metadata": {},
   "outputs": [
    {
     "name": "stdout",
     "output_type": "stream",
     "text": [
      "24/24 [==============================] - 128s 5s/step - loss: 1.2240 - accuracy: 0.6496 - true_positives_2: 43911.0000 - false_positives_2: 4655.0000 - false_negatives_2: 52089.0000 - true_negatives_2: 1435345.0000\n"
     ]
    }
   ],
   "source": [
    "# Define model\n",
    "exp_batch_model = models.Sequential()\n",
    "exp_batch_model.add(layers.Conv2D(32, (3, 3), activation='relu', input_shape=(28,28*4,1)))\n",
    "exp_batch_model.add(layers.MaxPooling2D((2,2)))\n",
    "exp_batch_model.add(layers.Conv2D(64, (3,3), activation='relu'))\n",
    "exp_batch_model.add(layers.MaxPooling2D((2,2)))\n",
    "exp_batch_model.add(layers.Flatten())\n",
    "exp_batch_model.add(layers.Dense(64, activation='relu'))\n",
    "exp_batch_model.add(layers.Dense(16, activation='softmax'))\n",
    "\n",
    "# Configure and fit model with epoch=3 instead of 1 from before\n",
    "exp_batch_model.compile(optimizer='rmsprop',\n",
    "             loss='categorical_crossentropy',\n",
    "             metrics=['accuracy',\n",
    "                      tf.keras.metrics.TruePositives(),\n",
    "                      tf.keras.metrics.FalsePositives(),\n",
    "                      tf.keras.metrics.FalseNegatives(),\n",
    "                     tf.keras.metrics.TrueNegatives()])\n",
    "history = exp_batch_model.fit(binarai_x_train, binarai_y_train, epochs=1, batch_size=4096)"
   ]
  },
  {
   "cell_type": "code",
   "execution_count": 20,
   "id": "95d8096c-c1b5-43bc-9b39-299022a57982",
   "metadata": {},
   "outputs": [
    {
     "name": "stdout",
     "output_type": "stream",
     "text": [
      "1000/1000 [==============================] - 17s 17ms/step - loss: 0.0034 - accuracy: 0.9985 - true_positives: 31952.0000 - false_positives: 48.0000 - false_negatives: 48.0000 - true_negatives: 479952.0000\n",
      "1000/1000 [==============================] - 16s 16ms/step - loss: 0.1648 - accuracy: 0.9602 - true_positives_2: 30398.0000 - false_positives_2: 1039.0000 - false_negatives_2: 1602.0000 - true_negatives_2: 478961.0000\n"
     ]
    }
   ],
   "source": [
    "# Evaluate the model\n",
    "sixfour_batch_result = model.evaluate(binarai_x_test, binarai_y_test)\n",
    "fourzeroninesix_batch_result = exp_batch_model.evaluate(binarai_x_test, binarai_y_test)"
   ]
  },
  {
   "cell_type": "markdown",
   "id": "a107deb8-af5d-4f25-8a39-3f9fe6fc8a9f",
   "metadata": {},
   "source": [
    "As predicted, the accuracy of the model with a larger batch size yielded a lower accuracy metric.<br>\n",
    "In a actual scenario, the goal should be to find the \"sweet spot\" that provides the fastest convergence to a near-optimal accuracy. Some of the things to consider while searching for this \"sweet spot\" are:\n",
    "- Memory size: you want to be able to ingest the entire batch into memory at once. This allows your model to pipeline reading and processing. If you exceed available memory, you will lose a lot of time to swapping. If you under-use the memory, you leave some potential performance untapped.\n",
    "- Processors: if you're on a multi-processor chip, you want to keep them all busy. If you care to assign processors through your OS controls, you'll also want to play with how many to assign to model computation, and how many to assign to I/O and system use. For instance, in one project I did, our group found that our 32 cores were best used with 28 allocated to computation, 4 reserved for I/O and other system functions.\n",
    "- Scaling: some characteristics work best in powers of 2. You may find that a batch size that is 2^n or 3 * 2^n for some n, works best, simply because of block sizes and other system allocations.\n",
    "\n",
    "Reference link [here](https://stackoverflow.com/questions/66716370/batch-size-and-training-time)."
   ]
  },
  {
   "cell_type": "markdown",
   "id": "0794fe08-699a-4c2c-8cd4-0bf03569b46c",
   "metadata": {},
   "source": [
    "### All Together Now\n",
    "Now, let's put together all these optimizations."
   ]
  },
  {
   "cell_type": "code",
   "execution_count": 67,
   "id": "fcae1c8b-ded1-4ed1-902a-89ffe14e20fe",
   "metadata": {},
   "outputs": [
    {
     "name": "stdout",
     "output_type": "stream",
     "text": [
      "Epoch 1/5\n",
      "2625/2625 [==============================] - 568s 216ms/step - loss: 0.0291 - accuracy: 0.9910 - true_positives_18: 332276.0000 - false_positives_18: 1918.0000 - false_negatives_18: 3724.0000 - true_negatives_18: 5038082.0000 - val_loss: 23.7402 - val_accuracy: 0.1664 - val_true_positives_18: 23957.0000 - val_false_positives_18: 119027.0000 - val_false_negatives_18: 120043.0000 - val_true_negatives_18: 2040973.0000\n",
      "Epoch 2/5\n",
      "2625/2625 [==============================] - 524s 200ms/step - loss: 0.0034 - accuracy: 0.9990 - true_positives_18: 335647.0000 - false_positives_18: 351.0000 - false_negatives_18: 353.0000 - true_negatives_18: 5039649.0000 - val_loss: 22.2464 - val_accuracy: 0.1666 - val_true_positives_18: 23996.0000 - val_false_positives_18: 117180.0000 - val_false_negatives_18: 120004.0000 - val_true_negatives_18: 2042820.0000\n",
      "Epoch 3/5\n",
      "2625/2625 [==============================] - 515s 196ms/step - loss: 0.0018 - accuracy: 0.9994 - true_positives_18: 335791.0000 - false_positives_18: 208.0000 - false_negatives_18: 209.0000 - true_negatives_18: 5039792.0000 - val_loss: 22.1429 - val_accuracy: 0.1665 - val_true_positives_18: 23969.0000 - val_false_positives_18: 119442.0000 - val_false_negatives_18: 120031.0000 - val_true_negatives_18: 2040558.0000\n",
      "Epoch 4/5\n",
      "2625/2625 [==============================] - 543s 207ms/step - loss: 0.0012 - accuracy: 0.9996 - true_positives_18: 335854.0000 - false_positives_18: 146.0000 - false_negatives_18: 146.0000 - true_negatives_18: 5039854.0000 - val_loss: 25.0227 - val_accuracy: 0.1667 - val_true_positives_18: 23999.0000 - val_false_positives_18: 119946.0000 - val_false_negatives_18: 120001.0000 - val_true_negatives_18: 2040054.0000\n"
     ]
    }
   ],
   "source": [
    "# Define the final model\n",
    "model_final = models.Sequential()\n",
    "\n",
    "# Add layers into the model\n",
    "model_final.add(layers.Conv2D(32, (3, 3), activation='relu', input_shape=(28,28*4,1)))\n",
    "model_final.add(layers.MaxPooling2D((2,2)))\n",
    "model_final.add(layers.Dropout(0.5))\n",
    "model_final.add(layers.Conv2D(64, (3,3), activation='relu'))\n",
    "model_final.add(layers.MaxPooling2D((2,2)))\n",
    "model_final.add(layers.Dropout(0.5))\n",
    "model_final.add(layers.Flatten())\n",
    "model_final.add(layers.Dense(32, activation='relu'))\n",
    "model_final.add(layers.Dense(16, activation='softmax'))\n",
    "\n",
    "# Configuration\n",
    "model_final.compile(optimizer=tf.keras.optimizers.Adam(learning_rate=0.001),\n",
    "             loss='categorical_crossentropy',\n",
    "             metrics=['accuracy',\n",
    "                      tf.keras.metrics.TruePositives(),\n",
    "                      tf.keras.metrics.FalsePositives(),\n",
    "                      tf.keras.metrics.FalseNegatives(),\n",
    "                     tf.keras.metrics.TrueNegatives()])\n",
    "\n",
    "# Fitting the model\n",
    "history_final = model_final.fit(binarai_x_train_expanded,\n",
    "                                binarai_y_train_expanded,\n",
    "                                validation_split=0.3,\n",
    "                                epochs=5,\n",
    "                                batch_size=128,\n",
    "                                callbacks=[tf.keras.callbacks.EarlyStopping(patience=1)])"
   ]
  },
  {
   "cell_type": "code",
   "execution_count": 70,
   "id": "5e7d88e7-73ff-4d08-9cff-8512036d1707",
   "metadata": {},
   "outputs": [
    {
     "name": "stdout",
     "output_type": "stream",
     "text": [
      "1000/1000 [==============================] - 13s 13ms/step - loss: 7.4865 - accuracy: 0.7494 - true_positives_18: 23982.0000 - false_positives_18: 8015.0000 - false_negatives_18: 8018.0000 - true_negatives_18: 471985.0000\n"
     ]
    }
   ],
   "source": [
    "# Evaluate\n",
    "final_result = model_final.evaluate(binarai_x_test, binarai_y_test)"
   ]
  },
  {
   "cell_type": "markdown",
   "id": "a47fdf50-2b08-4f90-8bc1-10955ee27b9c",
   "metadata": {},
   "source": [
    "### Train Now, Use Later\n",
    "If you have decided to run all the code cells above, you would quickly understand how arduous and painful it is to train the models(_unless you use that as an excuse to go for a quick break_). We will be using methods from Keras to save the entire model containing the model's architecture, weights, and training configuration.<br>\n",
    "\n",
    "Let's try it out:"
   ]
  },
  {
   "cell_type": "code",
   "execution_count": 78,
   "id": "4a38c0d1-f525-4a92-bd7e-ed781e07113d",
   "metadata": {},
   "outputs": [
    {
     "name": "stderr",
     "output_type": "stream",
     "text": [
      "WARNING:absl:Found untraced functions such as _jit_compiled_convolution_op, _jit_compiled_convolution_op, _update_step_xla while saving (showing 3 of 3). These functions will not be directly callable after loading.\n"
     ]
    },
    {
     "name": "stdout",
     "output_type": "stream",
     "text": [
      "INFO:tensorflow:Assets written to: models/original_model\\assets\n"
     ]
    },
    {
     "name": "stderr",
     "output_type": "stream",
     "text": [
      "INFO:tensorflow:Assets written to: models/original_model\\assets\n",
      "WARNING:absl:Found untraced functions such as _jit_compiled_convolution_op, _jit_compiled_convolution_op, _update_step_xla while saving (showing 3 of 3). These functions will not be directly callable after loading.\n"
     ]
    },
    {
     "name": "stdout",
     "output_type": "stream",
     "text": [
      "INFO:tensorflow:Assets written to: models/epoch_model\\assets\n"
     ]
    },
    {
     "name": "stderr",
     "output_type": "stream",
     "text": [
      "INFO:tensorflow:Assets written to: models/epoch_model\\assets\n",
      "WARNING:absl:Found untraced functions such as _jit_compiled_convolution_op, _jit_compiled_convolution_op, _update_step_xla while saving (showing 3 of 3). These functions will not be directly callable after loading.\n"
     ]
    },
    {
     "name": "stdout",
     "output_type": "stream",
     "text": [
      "INFO:tensorflow:Assets written to: models/dropout_model\\assets\n"
     ]
    },
    {
     "name": "stderr",
     "output_type": "stream",
     "text": [
      "INFO:tensorflow:Assets written to: models/dropout_model\\assets\n",
      "WARNING:absl:Found untraced functions such as _jit_compiled_convolution_op, _jit_compiled_convolution_op, _update_step_xla while saving (showing 3 of 3). These functions will not be directly callable after loading.\n"
     ]
    },
    {
     "name": "stdout",
     "output_type": "stream",
     "text": [
      "INFO:tensorflow:Assets written to: models/final_model\\assets\n"
     ]
    },
    {
     "name": "stderr",
     "output_type": "stream",
     "text": [
      "INFO:tensorflow:Assets written to: models/final_model\\assets\n"
     ]
    }
   ],
   "source": [
    "#!mkdir -p models # Create a new directory to store models\n",
    "\n",
    "# Save the entire model\n",
    "model.save('models/original_model')\n",
    "exp_epoch_model.save('models/epoch_model')\n",
    "exp_batch_model.save('models/batch_model')\n",
    "model_dropout.save('models/dropout_model')\n",
    "model_final.save('models/final_model')"
   ]
  },
  {
   "cell_type": "markdown",
   "id": "cdcf86b5-1f0d-4029-950f-04586f7d6773",
   "metadata": {},
   "source": [
    "To load up a previously saved mode, we do:"
   ]
  },
  {
   "cell_type": "code",
   "execution_count": 74,
   "id": "5fbad6d0-bf0a-4b65-ae31-1028d7d77fdc",
   "metadata": {},
   "outputs": [
    {
     "name": "stdout",
     "output_type": "stream",
     "text": [
      "Model: \"sequential_15\"\n",
      "_________________________________________________________________\n",
      " Layer (type)                Output Shape              Param #   \n",
      "=================================================================\n",
      " conv2d_27 (Conv2D)          (None, 26, 110, 32)       320       \n",
      "                                                                 \n",
      " max_pooling2d_27 (MaxPoolin  (None, 13, 55, 32)       0         \n",
      " g2D)                                                            \n",
      "                                                                 \n",
      " conv2d_28 (Conv2D)          (None, 11, 53, 64)        18496     \n",
      "                                                                 \n",
      " max_pooling2d_28 (MaxPoolin  (None, 5, 26, 64)        0         \n",
      " g2D)                                                            \n",
      "                                                                 \n",
      " flatten_15 (Flatten)        (None, 8320)              0         \n",
      "                                                                 \n",
      " dense_30 (Dense)            (None, 64)                532544    \n",
      "                                                                 \n",
      " dense_31 (Dense)            (None, 16)                1040      \n",
      "                                                                 \n",
      "=================================================================\n",
      "Total params: 552,400\n",
      "Trainable params: 552,400\n",
      "Non-trainable params: 0\n",
      "_________________________________________________________________\n",
      "WARNING:tensorflow:6 out of the last 6 calls to <function Model.make_predict_function.<locals>.predict_function at 0x000002276F4C97E0> triggered tf.function retracing. Tracing is expensive and the excessive number of tracings could be due to (1) creating @tf.function repeatedly in a loop, (2) passing tensors with different shapes, (3) passing Python objects instead of tensors. For (1), please define your @tf.function outside of the loop. For (2), @tf.function has reduce_retracing=True option that can avoid unnecessary retracing. For (3), please refer to https://www.tensorflow.org/guide/function#controlling_retracing and https://www.tensorflow.org/api_docs/python/tf/function for  more details.\n"
     ]
    },
    {
     "name": "stderr",
     "output_type": "stream",
     "text": [
      "WARNING:tensorflow:6 out of the last 6 calls to <function Model.make_predict_function.<locals>.predict_function at 0x000002276F4C97E0> triggered tf.function retracing. Tracing is expensive and the excessive number of tracings could be due to (1) creating @tf.function repeatedly in a loop, (2) passing tensors with different shapes, (3) passing Python objects instead of tensors. For (1), please define your @tf.function outside of the loop. For (2), @tf.function has reduce_retracing=True option that can avoid unnecessary retracing. For (3), please refer to https://www.tensorflow.org/guide/function#controlling_retracing and https://www.tensorflow.org/api_docs/python/tf/function for  more details.\n"
     ]
    },
    {
     "name": "stdout",
     "output_type": "stream",
     "text": [
      "1/1 [==============================] - 0s 60ms/step\n",
      "[[5.7934684e-26 8.9294425e-30 5.2868760e-12 5.2359425e-25 2.2055401e-10\n",
      "  3.5856806e-20 1.0000000e+00 2.4239468e-11 5.8099548e-34 2.0410318e-37\n",
      "  4.8549277e-15 1.1779725e-24 2.0487429e-18 3.8854151e-25 9.7228215e-21\n",
      "  6.8661898e-22]]\n",
      "Predicted class: 6\n"
     ]
    }
   ],
   "source": [
    "# Load model\n",
    "saved_original_model = models.load_model('models/original_model')\n",
    "\n",
    "# Check summary\n",
    "saved_original_model.summary()\n",
    "\n",
    "# Predict custom handwritten binaries to do a check\n",
    "result = saved_original_model.predict(imgData)\n",
    "print(result)\n",
    "print(f\"Predicted class: {np.argmax(result)}\")"
   ]
  },
  {
   "cell_type": "markdown",
   "id": "1fe65a81-4e98-423d-88f4-96208453b99e",
   "metadata": {},
   "source": [
    "As we can see, the model has been reloaded, architecture and everything else. TensorFlow and Keras provides alternative methods to save/load models, some even allowing saving/loading from a checkpoint to resume training."
   ]
  },
  {
   "cell_type": "markdown",
   "id": "dfd07bd9-2cb0-4b87-8c76-53d9bb189399",
   "metadata": {},
   "source": [
    "## Conclusion\n",
    "In this series of notebooks, we have implemented a 4-digit handwritten binary classification model and gained insights on how the following:\n",
    "- Visualizing the MNIST database\n",
    "- Curating our own database using MNIST\n",
    "- CNN and its components\n",
    "- Implementing a CNN\n",
    "- Dealing with overfitting\n",
    "- Hyperparameters and what they do\n",
    "- Saving and loading models\n",
    "\n",
    "### Limitations\n",
    "As a project with a reduced scope, there were a few limitations that we ran into while developing this project:\n",
    "- Although the evaluation of the model against our generated test set works great, custom handwritten tests do not work as well. This is due to the format of the images introduced by MNIST(normalized, centered, etc.), and having an image that exceeds the margins of the image(20x20px, 28x28px) decreases the accuracy of the predictions significantly.\n",
    "- Given the time-constraint amidst other modules, we were not able to fully experiment with various configurations of the neural network, or even compare it to various forms of image recognition neural networks.\n",
    "\n",
    "### Closing words\n",
    "Coming to the end of this project, we believe that we have met our intended goals of this project, being to get some hands-on experience with industry frameworks and showcase the knowledge we have gained throughout the course. We would also like to extend our gratitude to Dr. Tong Rong for her advice throughout this project."
   ]
  },
  {
   "cell_type": "markdown",
   "id": "0a707650-27d5-4588-a44c-b4b571f97504",
   "metadata": {},
   "source": [
    "## Errors\n",
    "### 3 Apr 2023\n",
    "It has come to my attention that the reason why the training accuracy is significantly greater than validation accuracy was due to how _validation_split_ works in TensorFlow. _validation_split_ splits the training set by $x$ percent from the bottom of the input set. This posed to be an issue as the dataset has not been shuffled and the examples are ordered by their decimal value during data curation. E.g:\n",
    "1. 0000\n",
    "2. 0001\n",
    "\n",
    "...\n",
    "\n",
    "15. 1111\n",
    "\n",
    "As a fix, let's shuffle the training set before calling _fit()_."
   ]
  },
  {
   "cell_type": "code",
   "execution_count": 17,
   "id": "99e329e6-864f-452a-9898-53d5fdb736f5",
   "metadata": {},
   "outputs": [
    {
     "name": "stdout",
     "output_type": "stream",
     "text": [
      "Epoch 1/5\n",
      "1200/1200 [==============================] - 93s 77ms/step - loss: 0.0963 - accuracy: 0.9699 - val_loss: 0.0105 - val_accuracy: 0.9965\n",
      "Epoch 2/5\n",
      "1200/1200 [==============================] - 93s 77ms/step - loss: 0.0144 - accuracy: 0.9954 - val_loss: 0.0079 - val_accuracy: 0.9977\n",
      "Epoch 3/5\n",
      "1200/1200 [==============================] - 95s 79ms/step - loss: 0.0096 - accuracy: 0.9969 - val_loss: 0.0038 - val_accuracy: 0.9987\n",
      "Epoch 4/5\n",
      "1200/1200 [==============================] - 93s 77ms/step - loss: 0.0058 - accuracy: 0.9981 - val_loss: 0.0014 - val_accuracy: 0.9997\n",
      "Epoch 5/5\n",
      "1200/1200 [==============================] - 93s 77ms/step - loss: 0.0046 - accuracy: 0.9984 - val_loss: 0.0018 - val_accuracy: 0.9993\n"
     ]
    }
   ],
   "source": [
    "# Define the final model\n",
    "model_fixed = models.Sequential()\n",
    "\n",
    "# Add layers into the model\n",
    "model_fixed.add(layers.Conv2D(32, (3, 3), activation='relu', input_shape=(28,28*4,1)))\n",
    "model_fixed.add(layers.MaxPooling2D((2,2)))\n",
    "model_fixed.add(layers.Dropout(0.5))\n",
    "model_fixed.add(layers.Conv2D(64, (3,3), activation='relu'))\n",
    "model_fixed.add(layers.MaxPooling2D((2,2)))\n",
    "model_fixed.add(layers.Dropout(0.5))\n",
    "model_fixed.add(layers.Flatten())\n",
    "model_fixed.add(layers.Dense(32, activation='relu'))\n",
    "model_fixed.add(layers.Dense(16, activation='softmax'))\n",
    "\n",
    "# Configuration\n",
    "model_fixed.compile(optimizer=tf.keras.optimizers.Adam(learning_rate=0.001),\n",
    "             loss='categorical_crossentropy',\n",
    "             metrics=['accuracy'])\n",
    "\n",
    "# Shuffle training set\n",
    "p = np.random.permutation(len(binarai_x_train))\n",
    "\n",
    "# Fitting the model\n",
    "history_fixed = model_fixed.fit(binarai_x_train[p],\n",
    "                                binarai_y_train[p],\n",
    "                                validation_split=0.2,\n",
    "                                shuffle=True,\n",
    "                                epochs=5,\n",
    "                                batch_size=64,\n",
    "                                callbacks=[tf.keras.callbacks.EarlyStopping(patience=1)])"
   ]
  },
  {
   "cell_type": "code",
   "execution_count": 18,
   "id": "ae862bd4-4546-47d7-9294-1d488983425f",
   "metadata": {},
   "outputs": [
    {
     "name": "stdout",
     "output_type": "stream",
     "text": [
      "1000/1000 [==============================] - 9s 9ms/step - loss: 0.0035 - accuracy: 0.9987\n"
     ]
    },
    {
     "data": {
      "text/plain": [
       "[0.0035007623955607414, 0.9987499713897705]"
      ]
     },
     "execution_count": 18,
     "metadata": {},
     "output_type": "execute_result"
    }
   ],
   "source": [
    "# Evaluation\n",
    "model_fixed.evaluate(binarai_x_test, binarai_y_test)"
   ]
  },
  {
   "cell_type": "code",
   "execution_count": 20,
   "id": "3b51e988-62c5-420e-8a58-898e5d81da52",
   "metadata": {},
   "outputs": [
    {
     "data": {
      "text/plain": [
       "<matplotlib.legend.Legend at 0x2036fb44a60>"
      ]
     },
     "execution_count": 20,
     "metadata": {},
     "output_type": "execute_result"
    },
    {
     "data": {
      "image/png": "[encoded data removed]",
      "text/plain": [
       "<Figure size 432x288 with 1 Axes>"
      ]
     },
     "metadata": {
      "needs_background": "light"
     },
     "output_type": "display_data"
    }
   ],
   "source": [
    "plt.plot(history_fixed.history['accuracy'])\n",
    "plt.plot(history_fixed.history['val_accuracy'])\n",
    "plt.legend(['Training Accuracy', 'Validation Accuracy'])"
   ]
  },
  {
   "cell_type": "markdown",
   "id": "f7f39208-e0ba-4f73-ac37-3a3ccff57c30",
   "metadata": {},
   "source": [
    "Here we see that the validation accuracy is indeed slightly higher than the training accuracy, a good indication that the model is well-fitted."
   ]
  },
  {
   "cell_type": "code",
   "execution_count": null,
   "id": "459ddf35-afd6-46bf-bf9f-b3f3f703c6cb",
   "metadata": {},
   "outputs": [],
   "source": []
  }
 ],
 "metadata": {
  "kernelspec": {
   "display_name": "Python 3 (ipykernel)",
   "language": "python",
   "name": "python3"
  },
  "language_info": {
   "codemirror_mode": {
    "name": "ipython",
    "version": 3
   },
   "file_extension": ".py",
   "mimetype": "text/x-python",
   "name": "python",
   "nbconvert_exporter": "python",
   "pygments_lexer": "ipython3",
   "version": "3.10.4"
  }
 },
 "nbformat": 4,
 "nbformat_minor": 5
}
