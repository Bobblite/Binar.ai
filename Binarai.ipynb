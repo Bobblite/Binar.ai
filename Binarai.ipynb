{
 "cells": [
  {
   "cell_type": "markdown",
   "id": "67021fbf-7ce8-4fca-ab47-929d79c151ca",
   "metadata": {},
   "source": [
    "# Binarai"
   ]
  },
  {
   "cell_type": "markdown",
   "id": "c317aea1-2ea9-4ca0-9dc3-6d99fb088fd8",
   "metadata": {},
   "source": [
    "## Set-up"
   ]
  },
  {
   "cell_type": "code",
   "execution_count": 8,
   "id": "cb875dd3-51af-491c-8d55-05e492a9bef8",
   "metadata": {
    "tags": []
   },
   "outputs": [
    {
     "name": "stdout",
     "output_type": "stream",
     "text": [
      "2.11.0\n"
     ]
    }
   ],
   "source": [
    "import tensorflow as tf\n",
    "print(tf.__version__)\n",
    "tf_framework_version = tf.__version__"
   ]
  },
  {
   "cell_type": "markdown",
   "id": "0db686ee-7eaf-43fb-8f2c-07069929b0fb",
   "metadata": {
    "tags": []
   },
   "source": [
    "## Deploy"
   ]
  },
  {
   "cell_type": "code",
   "execution_count": 2,
   "id": "74cb82a9-f024-46d5-b9e3-e10276a47479",
   "metadata": {
    "tags": []
   },
   "outputs": [
    {
     "name": "stdout",
     "output_type": "stream",
     "text": [
      "2.132.0\n"
     ]
    }
   ],
   "source": [
    "import sagemaker\n",
    "print(sagemaker.__version__)\n",
    "from sagemaker import get_execution_role\n",
    "from sagemaker import Session\n",
    "from sagemaker import tensorflow as sm_tf\n",
    "\n",
    "role = get_execution_role()\n",
    "sess = Session()\n",
    "bucket = sess.default_bucket()"
   ]
  },
  {
   "cell_type": "code",
   "execution_count": 4,
   "id": "4bed1119-dc9a-4e36-b86d-a880909bd091",
   "metadata": {
    "tags": []
   },
   "outputs": [],
   "source": [
    "prefix = 'models'"
   ]
  },
  {
   "cell_type": "code",
   "execution_count": 5,
   "id": "45268d1e-cbdd-4611-98d4-8975811402d4",
   "metadata": {
    "tags": []
   },
   "outputs": [
    {
     "name": "stdout",
     "output_type": "stream",
     "text": [
      "1/\n",
      "1/keras_metadata.pb\n",
      "1/fingerprint.pb\n",
      "1/assets/\n",
      "1/Untitled.ipynb\n",
      "1/saved_model.pb\n",
      "1/.ipynb_checkpoints/\n",
      "1/.ipynb_checkpoints/Untitled-checkpoint.ipynb\n",
      "1/variables/\n",
      "1/variables/variables.data-00000-of-00001\n",
      "1/variables/variables.index\n"
     ]
    }
   ],
   "source": [
    "%%sh -s $prefix\n",
    "cd $1\n",
    "tar cvfz model-tf.tar.gz 1"
   ]
  },
  {
   "cell_type": "code",
   "execution_count": 6,
   "id": "ca663dc8-7662-432a-b9ba-382a77a40a1d",
   "metadata": {
    "tags": []
   },
   "outputs": [
    {
     "name": "stdout",
     "output_type": "stream",
     "text": [
      "s3://sagemaker-ap-southeast-1-418944224474/models/model-tf.tar.gz\n"
     ]
    }
   ],
   "source": [
    "model_path = sess.upload_data(path=prefix+'/model-tf.tar.gz', key_prefix=prefix)\n",
    "print(model_path)"
   ]
  },
  {
   "cell_type": "code",
   "execution_count": 9,
   "id": "a4999438-2692-4fb4-8ec8-7020ef981616",
   "metadata": {
    "tags": []
   },
   "outputs": [],
   "source": [
    "from sagemaker.tensorflow.model import TensorFlowModel\n",
    "tf_model = TensorFlowModel(model_data=model_path,\n",
    "                          framework_version=tf_framework_version,\n",
    "                          role=role)"
   ]
  },
  {
   "cell_type": "code",
   "execution_count": 10,
   "id": "e2021c6c-ddf9-44c6-8f28-409f2b22d367",
   "metadata": {
    "tags": []
   },
   "outputs": [
    {
     "name": "stderr",
     "output_type": "stream",
     "text": [
      "update_endpoint is a no-op in sagemaker>=2.\n",
      "See: https://sagemaker.readthedocs.io/en/stable/v2.html for details.\n"
     ]
    },
    {
     "name": "stdout",
     "output_type": "stream",
     "text": [
      "-----!binarai-endpoint\n"
     ]
    }
   ],
   "source": [
    "from time import strftime,gmtime\n",
    "tf_endpoint_name = 'binarai-endpoint'\n",
    "\n",
    "tf_predictor = tf_model.deploy(endpoint_name=tf_endpoint_name,\n",
    "                              initial_instance_count=1,\n",
    "                              instance_type='ml.t2.medium')\n",
    "print(tf_endpoint_name)"
   ]
  },
  {
   "cell_type": "code",
   "execution_count": null,
   "id": "45a4d192-bb0d-4b03-ab03-46f27c88d12e",
   "metadata": {},
   "outputs": [],
   "source": [
    "#tf_predictor.delete_endpoint()"
   ]
  }
 ],
 "metadata": {
  "kernelspec": {
   "display_name": "conda_tensorflow2_p310",
   "language": "python",
   "name": "conda_tensorflow2_p310"
  },
  "language_info": {
   "codemirror_mode": {
    "name": "ipython",
    "version": 3
   },
   "file_extension": ".py",
   "mimetype": "text/x-python",
   "name": "python",
   "nbconvert_exporter": "python",
   "pygments_lexer": "ipython3",
   "version": "3.10.8"
  }
 },
 "nbformat": 4,
 "nbformat_minor": 5
}
